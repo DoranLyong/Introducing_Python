{
 "cells": [
  {
   "cell_type": "markdown",
   "metadata": {},
   "source": [
    "# 에러 처리하기: try, except"
   ]
  },
  {
   "cell_type": "markdown",
   "metadata": {},
   "source": [
    "> 하거나 하지 않는 것이지, 시도해본다는 것은 없다 <br/>\n",
    "> Do, or do not. There is not try               - 요다<sup>Yoda</sup>-"
   ]
  },
  {
   "cell_type": "markdown",
   "metadata": {},
   "source": [
    "일부 언어에서는 에러<sup>error</sup> 발생시 특수 함수의 반환값으로 표시됨 \n",
    "> 파이썬은 에러가 발생하면 코드가 실행되는 __예외__<sup>exception</sup>을 사용함 "
   ]
  },
  {
   "cell_type": "markdown",
   "metadata": {},
   "source": [
    "어떤 상황에서 실패할 수 있는 코드를 실행했을 때는 모든 잠재적인 에러를 방지하기 위해 적절한 __예외 처리__가 필요함 <br/>\n",
    "컴퓨터가 갑자기 에러를 표출하는데 사람이 알아듣는 말로 말하면 해결이 수월하지? \n",
    "\n",
    "> 사용자에게 무슨 일이 일어나고 있는지 알도록 예외가 발생할 수 있는 모든 곳에 예외 처리를 하는 것은 좋은 습관임 \n",
    "\n",
    "#### 상황을 안다는건 문제 해결의 시발점이니까"
   ]
  },
  {
   "cell_type": "markdown",
   "metadata": {
    "collapsed": true
   },
   "source": [
    "# 1. 예외 처리에 대한 핸들러(=해결 방침)이 없었다면?"
   ]
  },
  {
   "cell_type": "markdown",
   "metadata": {},
   "source": [
    "만약 어떤 함수에서 예외가 발생해 실행을 못한다면, <br/>\n",
    "\n",
    "(1) 1차적으로 호출한 함수에 일치하는 핸들러<sup>handler</sup>에 의해 예외를 잡을 때까지 __버블링__<sup>bubbling</sup>함 \n",
    "<br/>\n",
    "(2) <span style=\"color:red\">사용자가 핸들러를 제공 안했다면</span>, 파이썬은 에러메시지와 오류가 발생한 위치에 대한 정보를 반환하고 프로그램을 종료함 "
   ]
  },
  {
   "cell_type": "markdown",
   "metadata": {},
   "source": [
    "__예외 처리를 하지 않은 예시__"
   ]
  },
  {
   "cell_type": "code",
   "execution_count": 1,
   "metadata": {},
   "outputs": [
    {
     "ename": "IndexError",
     "evalue": "list index out of range",
     "output_type": "error",
     "traceback": [
      "\u001b[1;31m---------------------------------------------------------------------------\u001b[0m",
      "\u001b[1;31mIndexError\u001b[0m                                Traceback (most recent call last)",
      "\u001b[1;32m<ipython-input-1-41cc902f3d82>\u001b[0m in \u001b[0;36m<module>\u001b[1;34m()\u001b[0m\n\u001b[0;32m      1\u001b[0m \u001b[0mshort_list\u001b[0m \u001b[1;33m=\u001b[0m \u001b[1;33m[\u001b[0m\u001b[1;36m1\u001b[0m\u001b[1;33m,\u001b[0m \u001b[1;36m2\u001b[0m\u001b[1;33m,\u001b[0m \u001b[1;36m3\u001b[0m\u001b[1;33m]\u001b[0m\u001b[1;33m\u001b[0m\u001b[0m\n\u001b[0;32m      2\u001b[0m \u001b[0mposition\u001b[0m \u001b[1;33m=\u001b[0m \u001b[1;36m5\u001b[0m\u001b[1;33m\u001b[0m\u001b[0m\n\u001b[1;32m----> 3\u001b[1;33m \u001b[0mshort_list\u001b[0m\u001b[1;33m[\u001b[0m\u001b[0mposition\u001b[0m\u001b[1;33m]\u001b[0m      \u001b[1;31m# indexing 범위가 넘어서서 에러발생\u001b[0m\u001b[1;33m\u001b[0m\u001b[0m\n\u001b[0m",
      "\u001b[1;31mIndexError\u001b[0m: list index out of range"
     ]
    }
   ],
   "source": [
    "short_list = [1, 2, 3]\n",
    "position = 5 \n",
    "short_list[position]      # indexing 범위가 넘어서서 에러발생 "
   ]
  },
  {
   "cell_type": "markdown",
   "metadata": {},
   "source": [
    "### 1-1. 예외 처리방법 \n",
    "\n",
    "~~~ python \n",
    "try:\n",
    "    #에러가 일어날 것 같은 statement \n",
    "    \n",
    "except: \n",
    "    #예외로 실행할 코드블럭 \n",
    "~~~"
   ]
  },
  {
   "cell_type": "code",
   "execution_count": 2,
   "metadata": {},
   "outputs": [
    {
     "name": "stdout",
     "output_type": "stream",
     "text": [
      "Need a position between 0 and 2 but I got  5\n"
     ]
    }
   ],
   "source": [
    "short_list = [1,2,3]\n",
    "position = 5 \n",
    "\n",
    "try:                         # 일단 해봐 (try)\n",
    "    short_list[position]     # 에러가 일어났니? \n",
    "\n",
    "except:\n",
    "    print(\"Need a position between 0 and\", len(short_list)-1, \"but I got \", position) # "
   ]
  },
  {
   "cell_type": "markdown",
   "metadata": {},
   "source": [
    "* try 블록 안의 코드를 실행할 때 에러가 있다면 '__예외__<sup>exception</sup>'가 발생함 \n",
    "* '__예외__' 신호를 받으면 except 블록 내의 코드가 실행됨 "
   ]
  },
  {
   "cell_type": "markdown",
   "metadata": {},
   "source": [
    "위와 같이 인자<sup>arguments</sup> 없는 exception 문을 사용한다는 것 \n",
    "> 모든 예외 타입을 잡겠다는 것  \n",
    "<br/>\n",
    "\n",
    "__하지만__, 두 개 이상의 예외 타입이 발생하면 각각에 대한 예외 핸들러를 제공하는 것이 좋음 <br/>\n",
    "\n",
    "각 에러에 대한 특정 예외 핸들러는 아래와 같음 \n"
   ]
  },
  {
   "cell_type": "markdown",
   "metadata": {},
   "source": [
    "# 2. 예외 처리 심화 "
   ]
  },
  {
   "cell_type": "markdown",
   "metadata": {},
   "source": [
    "(p.149)\n",
    "~~~ python \n",
    "except <예외 타입> as <변수 이름> \n",
    "~~~\n",
    "\n",
    "\n",
    "* <변수 이름>에는 예외사항에 대한 세부정보를 저장한다 "
   ]
  },
  {
   "cell_type": "code",
   "execution_count": 6,
   "metadata": {},
   "outputs": [
    {
     "name": "stdout",
     "output_type": "stream",
     "text": [
      "Position [ q to quit ]?1\n",
      "2\n",
      "Position [ q to quit ]?2\n",
      "3\n",
      "Position [ q to quit ]?3\n",
      "Bad index:  3\n",
      "list index out of range\n",
      "\n",
      "\n",
      "Position [ q to quit ]?two\n",
      "Something else broke:  invalid literal for int() with base 10: 'two'\n",
      "invalid literal for int() with base 10: 'two'\n",
      "\n",
      "\n",
      "Position [ q to quit ]?q\n"
     ]
    }
   ],
   "source": [
    "short_list = [1, 2, 3]\n",
    "while True:                    # 무한 루프 \n",
    "    value = input(\"Position [ q to quit ]?\") \n",
    "    if value == 'q' :\n",
    "        break                  # 루프 탈출 \n",
    "        \n",
    "    try: \n",
    "        position = int(value)  #형변환 \n",
    "        print( short_list[position])\n",
    "        \n",
    "    except IndexError as err:                 # IndexError 예외에 대한 핸들러 \n",
    "        print(\"Bad index: \", position )\n",
    "        print(err)\n",
    "        print(\"\\n\")\n",
    "\n",
    "    except Exception as other:                 # 모든 예외에 대한 핸들러 \n",
    "        print(\"Something else broke: \", other)\n",
    "        print(other)\n",
    "        print(\"\\n\")\n"
   ]
  },
  {
   "cell_type": "markdown",
   "metadata": {},
   "source": [
    "* err 변수에는 IndexError 예외에 대한 세부 정보가 저장됨 \n",
    "> 인덱싱 범위가 넘어섰다(list index out of range)고 알려줌\n",
    "<br/>\n",
    "\n",
    "* other 변수에는 기타 다른 예외에 대한 정보가 담김 \n",
    "> int() 함수 내부의 리터럴<sup>(=값 자체)</sup>가 부당하고 알려줌 \n",
    "   * int() 함수 내에는 숫자 모양의 리터럴이 들어가야함 "
   ]
  },
  {
   "cell_type": "code",
   "execution_count": 4,
   "metadata": {},
   "outputs": [
    {
     "ename": "IndexError",
     "evalue": "list index out of range",
     "output_type": "error",
     "traceback": [
      "\u001b[1;31m---------------------------------------------------------------------------\u001b[0m",
      "\u001b[1;31mIndexError\u001b[0m                                Traceback (most recent call last)",
      "\u001b[1;32m<ipython-input-4-0005d0574aca>\u001b[0m in \u001b[0;36m<module>\u001b[1;34m()\u001b[0m\n\u001b[1;32m----> 1\u001b[1;33m \u001b[0mshort_list\u001b[0m\u001b[1;33m[\u001b[0m\u001b[0mint\u001b[0m\u001b[1;33m(\u001b[0m\u001b[1;36m3\u001b[0m\u001b[1;33m)\u001b[0m\u001b[1;33m]\u001b[0m\u001b[1;33m\u001b[0m\u001b[0m\n\u001b[0m",
      "\u001b[1;31mIndexError\u001b[0m: list index out of range"
     ]
    }
   ],
   "source": [
    "short_list[int(3)]"
   ]
  },
  {
   "cell_type": "code",
   "execution_count": 5,
   "metadata": {},
   "outputs": [
    {
     "ename": "NameError",
     "evalue": "name 'two' is not defined",
     "output_type": "error",
     "traceback": [
      "\u001b[1;31m---------------------------------------------------------------------------\u001b[0m",
      "\u001b[1;31mNameError\u001b[0m                                 Traceback (most recent call last)",
      "\u001b[1;32m<ipython-input-5-3f6c61ffd068>\u001b[0m in \u001b[0;36m<module>\u001b[1;34m()\u001b[0m\n\u001b[1;32m----> 1\u001b[1;33m \u001b[0mshort_list\u001b[0m\u001b[1;33m[\u001b[0m\u001b[0mint\u001b[0m\u001b[1;33m(\u001b[0m\u001b[0mtwo\u001b[0m\u001b[1;33m)\u001b[0m\u001b[1;33m]\u001b[0m\u001b[1;33m\u001b[0m\u001b[0m\n\u001b[0m",
      "\u001b[1;31mNameError\u001b[0m: name 'two' is not defined"
     ]
    }
   ],
   "source": [
    "short_list[int(two)]"
   ]
  },
  {
   "cell_type": "markdown",
   "metadata": {},
   "source": [
    "\n",
    "\n"
   ]
  },
  {
   "cell_type": "markdown",
   "metadata": {},
   "source": [
    "# 3. 사용자가 정의한 예외 발생시키기 "
   ]
  },
  {
   "cell_type": "markdown",
   "metadata": {},
   "source": [
    "IndexError와 같은 예외는 <span style=\"color:blue\">파이썬 표준 라이브러리에 미리 저장된 에러 메시지</span>임. <br/>\n",
    "\n",
    "이와 별개로 나만의 특별한 예외 처리를 위한 예외 타입을 정의할 수 있음 "
   ]
  },
  {
   "cell_type": "markdown",
   "metadata": {},
   "source": [
    "__<span style=\"color:red\">NOTE</span> __ <br/>\n",
    "새로운 예외 타입을 정의하려면? \n",
    "> 클래스<sup>class</sup> 객체 타입을 정의해야 함  <br/>\n",
    "\n",
    "우선 '상속'의 개념을 이해해야함. \n",
    "> 파이썬에 내장된 Exception 클래스를 부모클래스로 해서 자식 클래스를 만드는 방식으로 예외 타입을 정의함 "
   ]
  },
  {
   "cell_type": "markdown",
   "metadata": {},
   "source": [
    "__Example:__ words 문자열에 대문자가 있을 때 예외를 발생시키기 "
   ]
  },
  {
   "cell_type": "code",
   "execution_count": 2,
   "metadata": {},
   "outputs": [
    {
     "ename": "UppercaseException",
     "evalue": "MO",
     "output_type": "error",
     "traceback": [
      "\u001b[1;31m---------------------------------------------------------------------------\u001b[0m",
      "\u001b[1;31mUppercaseException\u001b[0m                        Traceback (most recent call last)",
      "\u001b[1;32m<ipython-input-2-c9233d1aaae4>\u001b[0m in \u001b[0;36m<module>\u001b[1;34m()\u001b[0m\n\u001b[0;32m      7\u001b[0m \u001b[1;32mfor\u001b[0m \u001b[0mword\u001b[0m \u001b[1;32min\u001b[0m \u001b[0mwords\u001b[0m\u001b[1;33m:\u001b[0m\u001b[1;33m\u001b[0m\u001b[0m\n\u001b[0;32m      8\u001b[0m     \u001b[1;32mif\u001b[0m \u001b[0mword\u001b[0m\u001b[1;33m.\u001b[0m\u001b[0misupper\u001b[0m\u001b[1;33m(\u001b[0m\u001b[1;33m)\u001b[0m\u001b[1;33m:\u001b[0m\u001b[1;33m\u001b[0m\u001b[0m\n\u001b[1;32m----> 9\u001b[1;33m         \u001b[1;32mraise\u001b[0m \u001b[0mUppercaseException\u001b[0m\u001b[1;33m(\u001b[0m\u001b[0mword\u001b[0m\u001b[1;33m)\u001b[0m         \u001b[1;31m# 발생시켜라 (raise)\u001b[0m\u001b[1;33m\u001b[0m\u001b[0m\n\u001b[0m\u001b[0;32m     10\u001b[0m                                                    \u001b[1;31m# 인스턴스화\u001b[0m\u001b[1;33m\u001b[0m\u001b[1;33m\u001b[0m\u001b[0m\n",
      "\u001b[1;31mUppercaseException\u001b[0m: MO"
     ]
    }
   ],
   "source": [
    "class UppercaseException(Exception):     # 부모 클래스로 부터 상속 \n",
    "    pass \n",
    "\n",
    "    \n",
    "words = [\"eeenie\", \"meenie\", \"miny\", \"MO\"]\n",
    "    \n",
    "for word in words: \n",
    "    if word.isupper(): \n",
    "        raise UppercaseException(word)         # 발생시켜라 (raise)\n",
    "                                               # 인스턴스화 "
   ]
  },
  {
   "cell_type": "code",
   "execution_count": 7,
   "metadata": {},
   "outputs": [
    {
     "data": {
      "text/plain": [
       "False"
      ]
     },
     "execution_count": 7,
     "metadata": {},
     "output_type": "execute_result"
    }
   ],
   "source": [
    "\"eeenie\".isupper()   # 이거 대문자냐? .isupper() ? "
   ]
  },
  {
   "cell_type": "code",
   "execution_count": 8,
   "metadata": {},
   "outputs": [
    {
     "data": {
      "text/plain": [
       "True"
      ]
     },
     "execution_count": 8,
     "metadata": {},
     "output_type": "execute_result"
    }
   ],
   "source": [
    "\"MO\".isupper()"
   ]
  },
  {
   "cell_type": "code",
   "execution_count": 15,
   "metadata": {},
   "outputs": [
    {
     "name": "stdout",
     "output_type": "stream",
     "text": [
      "예외가 발생했을 때 출력할 내용:  My_exception_msg\n"
     ]
    }
   ],
   "source": [
    "class OopsException(Exception):        # 부모 클래스로 부터 상속 \n",
    "    pass\n",
    "\n",
    "\n",
    "try:\n",
    "    raise OopsException(\"My_exception_msg\")       # 예외를 발생시켜라 \n",
    "                                                  # 예외 메시지로 인스턴스를 초기화 한다 \n",
    "\n",
    "except OopsException as exc:\n",
    "    print(\"예외가 발생했을 때 출력할 내용: \", exc)"
   ]
  },
  {
   "cell_type": "markdown",
   "metadata": {},
   "source": [
    "### [정리]\n",
    "* Exception 부모 클래스를 상속해서 사용자 예외 타입을 정의한다 \n",
    "<br/> \n",
    "\n",
    "* 예외 클래스를 초기값으로 초기화 하면 \n",
    "> 인스턴스 변수에 '예외 발생'에 대한 메시지를 담을 수 있음 "
   ]
  },
  {
   "cell_type": "markdown",
   "metadata": {},
   "source": [
    "~~~ python \n",
    "\n",
    "class <사용자_예외_타입>(Exception):        # Exception() 부모 클래스 상속 \n",
    "    # 메소드는 알아서 정의하던가 걍 두던가 \n",
    "    pass \n",
    "    \n",
    "try:\n",
    "    raise <사용자_예외_타입>( <초기화 값> )  # 예외 발생 시키기 raise \n",
    "    \n",
    "except <사용자_예외_타입> as <변수 이름>:\n",
    "    print( <변수 이름> )                     # <사용자_예외_타입>을 인스턴스화 시킬 때 넣은 <초기화 값>이 출력됨 \n",
    "\n",
    "\n",
    "~~~"
   ]
  },
  {
   "cell_type": "code",
   "execution_count": null,
   "metadata": {
    "collapsed": true
   },
   "outputs": [],
   "source": []
  }
 ],
 "metadata": {
  "kernelspec": {
   "display_name": "Python 3",
   "language": "python",
   "name": "python3"
  },
  "language_info": {
   "codemirror_mode": {
    "name": "ipython",
    "version": 3
   },
   "file_extension": ".py",
   "mimetype": "text/x-python",
   "name": "python",
   "nbconvert_exporter": "python",
   "pygments_lexer": "ipython3",
   "version": "3.6.3"
  }
 },
 "nbformat": 4,
 "nbformat_minor": 2
}
