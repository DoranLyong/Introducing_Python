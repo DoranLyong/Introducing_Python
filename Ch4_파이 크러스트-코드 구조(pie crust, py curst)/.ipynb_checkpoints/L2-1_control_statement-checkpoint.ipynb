{
 "cells": [
  {
   "cell_type": "markdown",
   "metadata": {},
   "source": [
    "# 제어문(control statement) \n",
    "<br/>\n",
    "\n",
    "\n",
    "__분기문__ : 비교하기 \n",
    "~~~ python \n",
    "if (<bool>): \n",
    "    pass\n",
    "elif (<bool>): \n",
    "    pass \n",
    "else: \n",
    "    pass \n",
    "~~~\n",
    "\n",
    "<br/>\n",
    "__반복문__ : loop(=갈고리 처럼) \n",
    "\n",
    "~~~ python\n",
    "while(<bool>):\n",
    "    pass\n",
    "    break \n",
    "    continue \n",
    "    \n",
    "else:\n",
    "    pass \n",
    "~~~\n",
    "\n",
    "<br/>\n",
    "__순회하기__ : iterator(총알이 떨어질 때 까지) \n",
    "\n",
    "~~~ python \n",
    "for <target> in <순회 가능한 객체>:\n",
    "    pass \n",
    "\n",
    "~~~\n",
    "\n",
    "*** \n",
    "\n",
    "__중단하기__: break \n",
    "\n",
    "__건너뛰기__: continue \n",
    "\n",
    "*** \n",
    "__파이썬스러운 코딩__: 컴프리헨션<sup>comprehension </sup>"
   ]
  },
  {
   "cell_type": "markdown",
   "metadata": {},
   "source": [
    " "
   ]
  },
  {
   "cell_type": "markdown",
   "metadata": {},
   "source": [
    "### Python 비교 연산자 \n",
    "| 비교 연산자 |       의미       |\n",
    "|:-----------:|:----------------:|\n",
    "| ==          |       같음       |\n",
    "| !=          |       다름       |\n",
    "| <           |     보다 작음    |\n",
    "| <=          | 보다 작거나 같음 |\n",
    "| >           |      보다 큼     |\n",
    "| >=          | 보다 크거나 같음 |\n",
    "| in ...      |      맴버십      |\n",
    "\n",
    "< bool > 타입의 객체를 반환 "
   ]
  },
  {
   "cell_type": "markdown",
   "metadata": {},
   "source": [
    "### True와 False 요소 "
   ]
  },
  {
   "cell_type": "markdown",
   "metadata": {},
   "source": [
    "< bool > 객체 이외에 True와 False로 평가하는 요소 \n",
    "\n",
    "|     요소     | False |\n",
    "|:------------:|:-----:|\n",
    "| null         |  None |\n",
    "| 정수 0       |   0   |\n",
    "| 부동소수점 0 |  0.0  |\n",
    "| 빈 문자열    |   \"\"  |\n",
    "| 빈 리스트    |   []  |\n",
    "| 빈 튜플      |   ()  |\n",
    "| 빈 딕셔너리  |   {}  |\n",
    "| 빈 셋        | set() |\n",
    "\n",
    "__공백 문자__라는 공통점이 있음 <br/>\n",
    "\n",
    "이 이외의 것들들은 전부 True로 간주 "
   ]
  },
  {
   "cell_type": "markdown",
   "metadata": {},
   "source": [
    "### Boolen 연산자 \n",
    "\n",
    "and, or, not  (진리표 참고)"
   ]
  },
  {
   "cell_type": "markdown",
   "metadata": {},
   "source": [
    "    "
   ]
  },
  {
   "cell_type": "markdown",
   "metadata": {},
   "source": [
    "## 1. 비교하면서 가지치기: if, elif, else \n"
   ]
  },
  {
   "cell_type": "markdown",
   "metadata": {},
   "source": [
    "<span style=\"color:blue\">선언문<sup>statement</sup></span>이 참(True), 거짓(False)을 비교하여 분기하는 __코드 구조__  "
   ]
  },
  {
   "cell_type": "code",
   "execution_count": 5,
   "metadata": {},
   "outputs": [
    {
     "name": "stdout",
     "output_type": "stream",
     "text": [
      "정답\n"
     ]
    }
   ],
   "source": [
    "x = 7 \n",
    "if ( 5 < x) and (x < 10):\n",
    "    print(\"정답\")\n",
    "else:\n",
    "    print(\"No No\")"
   ]
  },
  {
   "cell_type": "code",
   "execution_count": 8,
   "metadata": {},
   "outputs": [
    {
     "name": "stdout",
     "output_type": "stream",
     "text": [
      "응 안돼\n"
     ]
    }
   ],
   "source": [
    "if ( [] ) :                # 선언문을 False로 간주 \n",
    "    print(\"이런것도 됨\")\n",
    "else:\n",
    "    print(\"응 안돼\")"
   ]
  },
  {
   "cell_type": "markdown",
   "metadata": {},
   "source": [
    "<span style=\"color:red\">NOTE </span> <br/>\n",
    "다른 프로그래밍 언어와 달리, python의 if 조건 테스트에서는 괄호가 없어도 됨. \n",
    "> 대신 콜론(:)을 반드시 입력해야 함."
   ]
  },
  {
   "cell_type": "code",
   "execution_count": 3,
   "metadata": {},
   "outputs": [
    {
     "name": "stdout",
     "output_type": "stream",
     "text": [
      "짜잔\n"
     ]
    }
   ],
   "source": [
    "if (True):\n",
    "    print(\"짜잔\")\n",
    "else:\n",
    "    print(\"킁킁\")"
   ]
  },
  {
   "cell_type": "code",
   "execution_count": 4,
   "metadata": {},
   "outputs": [
    {
     "name": "stdout",
     "output_type": "stream",
     "text": [
      "짜잔\n"
     ]
    }
   ],
   "source": [
    "if True: \n",
    "    print(\"짜잔\")\n",
    "else:\n",
    "    print(\"킁킁\")"
   ]
  },
  {
   "cell_type": "markdown",
   "metadata": {},
   "source": [
    " \n",
    " "
   ]
  },
  {
   "cell_type": "markdown",
   "metadata": {},
   "source": [
    "## 2. 루프로 반복하기: while "
   ]
  },
  {
   "cell_type": "markdown",
   "metadata": {},
   "source": [
    "if, elif, else는 위에서 아래로 코드를 실행함 <br/>\n",
    "\n",
    "<span style=\"color:blue\">한 번 이상 코드를 실행</span>하려면 루프<sup>loop</sup>가 필요함 \n",
    "> Python에서 가장 간단한 루핑 메커니즘은 while 문임 \n",
    "   * 루프가 한 회 끝날때 마다 선언문을 비교해서 반복여부 결정 "
   ]
  },
  {
   "cell_type": "code",
   "execution_count": 11,
   "metadata": {},
   "outputs": [
    {
     "name": "stdout",
     "output_type": "stream",
     "text": [
      "1\n",
      "2\n",
      "3\n",
      "4\n",
      "5\n"
     ]
    }
   ],
   "source": [
    "count = 1 \n",
    "while count <= 5:\n",
    "    print(count)\n",
    "    count += 1      # count = count + 1   갱신 문(statement)"
   ]
  },
  {
   "cell_type": "markdown",
   "metadata": {},
   "source": [
    "### 루프 탈출: break\n",
    "조건이 만족하는 동안은 계속 코드를 반복하고 싶지만, <br/>\n",
    "조건이 언제 끝날지 장담할 수 없을 때까 있음 \n",
    " * 무한루프가 될 수도 있음 "
   ]
  },
  {
   "cell_type": "markdown",
   "metadata": {},
   "source": [
    "이럴 때는 __break__ 문을 통해 조건이 끝나기도 전에 루프를 중단할 수 있음 "
   ]
  },
  {
   "cell_type": "code",
   "execution_count": 14,
   "metadata": {},
   "outputs": [
    {
     "name": "stdout",
     "output_type": "stream",
     "text": [
      "String to capitalize [type q to quit]: test\n",
      "Test\n",
      "String to capitalize [type q to quit]: hey, it works\n",
      "Hey, it works\n",
      "String to capitalize [type q to quit]: q\n"
     ]
    }
   ],
   "source": [
    "while True:          # 무한루프 \n",
    "    stuff = input(\"String to capitalize [type q to quit]: \")\n",
    "    if stuff == \"q\":\n",
    "        break        # 루프 중단 \n",
    "    print(stuff.capitalize())"
   ]
  },
  {
   "cell_type": "markdown",
   "metadata": {},
   "source": [
    "input() 함수에 'q'가 입력되니 루프 종료 "
   ]
  },
  {
   "cell_type": "markdown",
   "metadata": {},
   "source": [
    " "
   ]
  },
  {
   "cell_type": "markdown",
   "metadata": {},
   "source": [
    "### (참고) break 작동 여부 확인하기: else "
   ]
  },
  {
   "cell_type": "code",
   "execution_count": 18,
   "metadata": {},
   "outputs": [
    {
     "name": "stdout",
     "output_type": "stream",
     "text": [
      "No even number found\n"
     ]
    }
   ],
   "source": [
    "numbers = [1, 3, 5]\n",
    "position = 0 \n",
    "\n",
    "while position < len(numbers):\n",
    "    number = numbers[position]     # number[ index ]\n",
    "    if number % 2 == 0:\n",
    "        print(\"Found even number\", number)\n",
    "        break                      # 루프 탈출 \n",
    "        \n",
    "    position += 1 \n",
    "else:                              # break가 동작을 안 했다면 \n",
    "                                   # 여기까지 내려올 것 \n",
    "    print(\"No even number found\")"
   ]
  },
  {
   "cell_type": "markdown",
   "metadata": {},
   "source": [
    "### 이번 루프 건너뛰기: continue \n",
    "반복문을 중단하기 싫지만 어떤 이유로 다음 루프로 바로 건너뛰고 싶을 때"
   ]
  },
  {
   "cell_type": "code",
   "execution_count": 15,
   "metadata": {},
   "outputs": [
    {
     "name": "stdout",
     "output_type": "stream",
     "text": [
      "Integer, please [q to quit]: 1\n",
      "1 squared is 1\n",
      "Integer, please [q to quit]: 2\n",
      "Integer, please [q to quit]: 3\n",
      "3 squared is 9\n",
      "Integer, please [q to quit]: 4\n",
      "Integer, please [q to quit]: 5\n",
      "5 squared is 25\n",
      "Integer, please [q to quit]: q\n"
     ]
    }
   ],
   "source": [
    "while True:            # 무한루프 \n",
    "    value = input(\"Integer, please [q to quit]: \")\n",
    "    if value == 'q':\n",
    "        break        # 루프 탈출\n",
    "    \n",
    "    number = int(value)    # 형변환\n",
    "    \n",
    "    if number % 2 == 0 :   # 짝수냐? \n",
    "        continue           # 그럼, 이번 순번은 걍 건너뛰자 \n",
    "        \n",
    "    print(number, \"squared is\", number * number)"
   ]
  },
  {
   "cell_type": "markdown",
   "metadata": {},
   "source": [
    "짝수 2, 4일때는 다음 루프로 건너뜀 "
   ]
  },
  {
   "cell_type": "markdown",
   "metadata": {},
   "source": [
    " "
   ]
  },
  {
   "cell_type": "markdown",
   "metadata": {},
   "source": [
    "## 3. 순회하기: for "
   ]
  },
  {
   "cell_type": "markdown",
   "metadata": {},
   "source": [
    "이터레이터<sup>iterator</sup>라고 부름 \n",
    "> 자료구조 내부를 차례로 순시하면서 순회할 수 있도록 해줌 "
   ]
  },
  {
   "cell_type": "code",
   "execution_count": null,
   "metadata": {
    "collapsed": true
   },
   "outputs": [],
   "source": []
  }
 ],
 "metadata": {
  "kernelspec": {
   "display_name": "Python 3",
   "language": "python",
   "name": "python3"
  },
  "language_info": {
   "codemirror_mode": {
    "name": "ipython",
    "version": 3
   },
   "file_extension": ".py",
   "mimetype": "text/x-python",
   "name": "python",
   "nbconvert_exporter": "python",
   "pygments_lexer": "ipython3",
   "version": "3.6.3"
  }
 },
 "nbformat": 4,
 "nbformat_minor": 2
}
