{
 "cells": [
  {
   "cell_type": "markdown",
   "metadata": {},
   "source": [
    "# 순회문 심화(advanced iterator)"
   ]
  },
  {
   "cell_type": "markdown",
   "metadata": {},
   "source": [
    "#### [1] 여러 시퀀스 순회하기: zip()\n",
    "\n",
    "#### [2] 숫자 시퀀스 생성하기: range()\n",
    "<br/>\n",
    "둘 모두 순회 가능한 객체(iterable object)를 반환함 \n",
    "> (1) 그러므로 for ... in 형태로 값을 순회할 수 있음 \n",
    "\n",
    "> (2) 반환된 객체를 리스트 같은 시퀀스 구조로 변환할 수 있음 \n",
    "\n",
    "#### [3] 기타 이터레이터 \n",
    "* 파일<sup>file</sup>에 대한 순회 in chapter 8\n",
    "\n",
    "* 직접 정의한 객체를 순회가 가능하도록 설정 in chapter 6"
   ]
  },
  {
   "cell_type": "markdown",
   "metadata": {},
   "source": [
    "## 1. 여러 시퀀스 순회하기: zip() "
   ]
  },
  {
   "cell_type": "markdown",
   "metadata": {},
   "source": [
    "<span style=\"color:blue\">zip()</span> 함수 객체를 사용하면 여러 시퀀스(=자료 나열, 순회 가능 객체)를 __병렬로 순회__할 수 있음. "
   ]
  },
  {
   "cell_type": "code",
   "execution_count": 1,
   "metadata": {},
   "outputs": [
    {
     "name": "stdout",
     "output_type": "stream",
     "text": [
      "Mon : drink coffee - eat Ban\n",
      "Tue : drink tea - eat Oran\n",
      "Wed : drink beer - eat Peach\n"
     ]
    }
   ],
   "source": [
    "days   = ['Mon', 'Tue', 'Wed']\n",
    "fruits = ['Ban', 'Oran', 'Peach']\n",
    "drinks = ['coffee', 'tea', 'beer', 'Soda']\n",
    "\n",
    "for day, fruit, drink in zip(days, fruits, drinks):\n",
    "    print(day, \": drink\", drink, \"- eat\", fruit  )"
   ]
  },
  {
   "cell_type": "code",
   "execution_count": 2,
   "metadata": {},
   "outputs": [
    {
     "data": {
      "text/plain": [
       "<zip at 0x13946b588c8>"
      ]
     },
     "execution_count": 2,
     "metadata": {},
     "output_type": "execute_result"
    }
   ],
   "source": [
    "zip(days, fruits, drinks)"
   ]
  },
  {
   "cell_type": "markdown",
   "metadata": {},
   "source": [
    "★ 여러 시퀀스 중 가장 짧은 시퀀스가 완료되면 zip()은 멈춘다. \n",
    "> drinks 객체에서 'Soda'는 누락됐음 "
   ]
  },
  {
   "cell_type": "markdown",
   "metadata": {},
   "source": [
    "### ※ zip() 함수 응용 - 시퀀스 구조의 객체 만들기\n",
    "dict() 함수로 tuple, list, string과 같은 두 항목의 시퀀스로 부터 딕셔너리 객체를 생성했었음 <br/>\n",
    "\n",
    "zip() 함수도 __여러 시퀀스를 병렬로 순회하면서__ 튜플을 만들 수 있음 \n"
   ]
  },
  {
   "cell_type": "code",
   "execution_count": 3,
   "metadata": {
    "collapsed": true
   },
   "outputs": [],
   "source": [
    "eng = 'Mon', 'Tue', 'Wed'\n",
    "fre = 'Lun', 'Mar', 'Mer'"
   ]
  },
  {
   "cell_type": "markdown",
   "metadata": {},
   "source": [
    "zip() 함수에서 반환되는 값을 튜플이나 리스트가 아니라 하나로 반환될 수 있는 순회 가능한 값임 \n",
    "> 한번더 형변환을 한번 더 해주어야함 "
   ]
  },
  {
   "cell_type": "code",
   "execution_count": 4,
   "metadata": {},
   "outputs": [
    {
     "data": {
      "text/plain": [
       "<zip at 0x13946af3608>"
      ]
     },
     "execution_count": 4,
     "metadata": {},
     "output_type": "execute_result"
    }
   ],
   "source": [
    "zip(eng, fre)"
   ]
  },
  {
   "cell_type": "code",
   "execution_count": 5,
   "metadata": {},
   "outputs": [
    {
     "data": {
      "text/plain": [
       "[('Mon', 'Lun'), ('Tue', 'Mar'), ('Wed', 'Mer')]"
      ]
     },
     "execution_count": 5,
     "metadata": {},
     "output_type": "execute_result"
    }
   ],
   "source": [
    "list( zip(eng, fre))"
   ]
  },
  {
   "cell_type": "code",
   "execution_count": 6,
   "metadata": {},
   "outputs": [
    {
     "data": {
      "text/plain": [
       "{'Mon': 'Lun', 'Tue': 'Mar', 'Wed': 'Mer'}"
      ]
     },
     "execution_count": 6,
     "metadata": {},
     "output_type": "execute_result"
    }
   ],
   "source": [
    "dict( zip(eng, fre) )"
   ]
  },
  {
   "cell_type": "code",
   "execution_count": 7,
   "metadata": {},
   "outputs": [
    {
     "data": {
      "text/plain": [
       "(('Mon', 'Lun'), ('Tue', 'Mar'), ('Wed', 'Mer'))"
      ]
     },
     "execution_count": 7,
     "metadata": {},
     "output_type": "execute_result"
    }
   ],
   "source": [
    "tuple( zip(eng, fre) )"
   ]
  },
  {
   "cell_type": "markdown",
   "metadata": {},
   "source": [
    "\n",
    "\n"
   ]
  },
  {
   "cell_type": "markdown",
   "metadata": {},
   "source": [
    "## 2. 숫자 시퀀스 생성하기: range() \n",
    "range() 함수는 리스트나 튜플 같은 자료구조를 생성해서 저장하지 않음 <br/>\n",
    "\n",
    "매번 특정 범위 내에서 숫자 스트림(=숫자 데이터 신호 전달)을 반환함\n",
    "> __장점__: <span style=\"color:blue\">메모리를 전부 안쓰고</span>, 프로그램의 충돌 없이 아주 큰 범위의를 생성할 수 있음 "
   ]
  },
  {
   "cell_type": "markdown",
   "metadata": {},
   "source": [
    "range() 함수는 슬라이스<sup>slice</sup> 사용법과 비슷함 \n",
    "* range(start, stop, step)\n",
    "> $start$를 생략하면 기본적으로 0에서 시작함 <br/>\n",
    "> $stop$은 꼭 입력해야함 \n",
    "  * 범위의 끝은 stop의 바로 직전 값 까지  \n",
    "  \n",
    "> $step$의 기본값은 1 \n",
    "  * 음수로 지정하면 역방향으로 진행 "
   ]
  },
  {
   "cell_type": "markdown",
   "metadata": {},
   "source": [
    "### 2-1. range() 함수로 숫자 시퀀스 구조 만들기 "
   ]
  },
  {
   "cell_type": "code",
   "execution_count": 8,
   "metadata": {},
   "outputs": [
    {
     "data": {
      "text/plain": [
       "range(0, 3)"
      ]
     },
     "execution_count": 8,
     "metadata": {},
     "output_type": "execute_result"
    }
   ],
   "source": [
    "range(0, 3)   # from 0 to before 3 "
   ]
  },
  {
   "cell_type": "code",
   "execution_count": 9,
   "metadata": {},
   "outputs": [
    {
     "data": {
      "text/plain": [
       "[0, 1, 2]"
      ]
     },
     "execution_count": 9,
     "metadata": {},
     "output_type": "execute_result"
    }
   ],
   "source": [
    "list( range(0, 3))"
   ]
  },
  {
   "cell_type": "code",
   "execution_count": 10,
   "metadata": {},
   "outputs": [
    {
     "name": "stdout",
     "output_type": "stream",
     "text": [
      "0\n",
      "1\n",
      "2\n"
     ]
    }
   ],
   "source": [
    "for target in range(0, 3):    # range(): 순회 가능 객체 반환 \n",
    "    print(target)"
   ]
  },
  {
   "cell_type": "markdown",
   "metadata": {},
   "source": [
    "__역방향으로 진행하는 시퀀스__"
   ]
  },
  {
   "cell_type": "code",
   "execution_count": 11,
   "metadata": {},
   "outputs": [
    {
     "data": {
      "text/plain": [
       "[2, 1, 0]"
      ]
     },
     "execution_count": 11,
     "metadata": {},
     "output_type": "execute_result"
    }
   ],
   "source": [
    "list(range(2, -1, -1))    "
   ]
  },
  {
   "cell_type": "markdown",
   "metadata": {},
   "source": [
    "-2 -1  0  1  2  3  <br/> \n",
    "    $\\; \\; \\; \\;$  &larr;"
   ]
  },
  {
   "cell_type": "code",
   "execution_count": 12,
   "metadata": {},
   "outputs": [
    {
     "name": "stdout",
     "output_type": "stream",
     "text": [
      "2\n",
      "1\n",
      "0\n"
     ]
    }
   ],
   "source": [
    "for target in range(2, -1, -1):\n",
    "    print(target)"
   ]
  },
  {
   "cell_type": "markdown",
   "metadata": {},
   "source": [
    "__step size 조절__"
   ]
  },
  {
   "cell_type": "code",
   "execution_count": 13,
   "metadata": {},
   "outputs": [
    {
     "data": {
      "text/plain": [
       "[0, 2, 4, 6, 8, 10]"
      ]
     },
     "execution_count": 13,
     "metadata": {},
     "output_type": "execute_result"
    }
   ],
   "source": [
    "list( range(0, 11, 2) ) # 2 step 씩"
   ]
  },
  {
   "cell_type": "code",
   "execution_count": null,
   "metadata": {
    "collapsed": true
   },
   "outputs": [],
   "source": []
  }
 ],
 "metadata": {
  "kernelspec": {
   "display_name": "Python 3",
   "language": "python",
   "name": "python3"
  },
  "language_info": {
   "codemirror_mode": {
    "name": "ipython",
    "version": 3
   },
   "file_extension": ".py",
   "mimetype": "text/x-python",
   "name": "python",
   "nbconvert_exporter": "python",
   "pygments_lexer": "ipython3",
   "version": "3.6.3"
  }
 },
 "nbformat": 4,
 "nbformat_minor": 2
}
