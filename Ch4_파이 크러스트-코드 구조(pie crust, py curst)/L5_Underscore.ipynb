{
 "cells": [
  {
   "cell_type": "markdown",
   "metadata": {},
   "source": [
    "# 이름에 _와 __ 사용 "
   ]
  },
  {
   "cell_type": "markdown",
   "metadata": {},
   "source": [
    "(p.147)"
   ]
  },
  {
   "cell_type": "markdown",
   "metadata": {},
   "source": [
    "두 언더스코어(__)로 시작하고 끝나는 이름의 사용 \n",
    "> 파이썬 내의 사용을 위한 예약어 <br/>\n",
    "\n",
    "### 예약어이기 때문에 사용자가 변수를 선언할 때 두 언더스코어(__)를 사용하면 안됨 "
   ]
  },
  {
   "cell_type": "markdown",
   "metadata": {},
   "source": [
    "※ 애플리케이션 개발자들이 이런 변수 이름을 선택할 가능성이 낮아서, 이런 네이밍 패턴이 사용됨 \n",
    "> 최대한 사용자가 '예약어'와의 충돌을 방지하기 위한 배려"
   ]
  },
  {
   "cell_type": "markdown",
   "metadata": {},
   "source": [
    "__Example__ <br/>\n",
    "\n",
    "* <span style=\"color:blue\">함수의 이름</span>은 시스템 변수 function.\\__name\\__ 에 저장됨  <br/>\n",
    "\n",
    "* <span style=\"color:green\">함수의 docstring</span>은 function.\\__doc\\__ 에 있음 "
   ]
  },
  {
   "cell_type": "code",
   "execution_count": 3,
   "metadata": {},
   "outputs": [
    {
     "name": "stdout",
     "output_type": "stream",
     "text": [
      "함수 이름 출력 :  amazing\n",
      "And its docstring is:  This is the amazing function. \n",
      "       Want to see it again?\n"
     ]
    }
   ],
   "source": [
    "def amazing():\n",
    "    \"\"\"This is the amazing function. \n",
    "       Want to see it again?\"\"\"\n",
    "\n",
    "    print(\"함수 이름 출력 : \", amazing.__name__)\n",
    "    \n",
    "    print(\"And its docstring is: \", amazing.__doc__)\n",
    "\n",
    "if __name__ == \"__main__\":\n",
    "    \n",
    "    amazing()"
   ]
  },
  {
   "cell_type": "markdown",
   "metadata": {},
   "source": [
    "※ 메인 코드 블럭의 이름은 <span style=\"color:red\">\\__main\\__ </span> 으로 할당 "
   ]
  },
  {
   "cell_type": "code",
   "execution_count": null,
   "metadata": {
    "collapsed": true
   },
   "outputs": [],
   "source": []
  }
 ],
 "metadata": {
  "kernelspec": {
   "display_name": "Python 3",
   "language": "python",
   "name": "python3"
  },
  "language_info": {
   "codemirror_mode": {
    "name": "ipython",
    "version": 3
   },
   "file_extension": ".py",
   "mimetype": "text/x-python",
   "name": "python",
   "nbconvert_exporter": "python",
   "pygments_lexer": "ipython3",
   "version": "3.6.3"
  }
 },
 "nbformat": 4,
 "nbformat_minor": 2
}
