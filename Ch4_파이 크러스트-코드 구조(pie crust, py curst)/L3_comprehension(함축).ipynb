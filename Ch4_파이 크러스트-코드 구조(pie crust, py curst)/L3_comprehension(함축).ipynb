{
 "cells": [
  {
   "cell_type": "markdown",
   "metadata": {},
   "source": [
    "# 컴프리헨션 \n",
    "컴프리헨션<sup>comprehension</sup>(=함축)은 하나 이상의 iterator로부터 파이썬 자료구조를 만드는 컴팩트<sup>compact</sup>한 기법\n",
    "> 가장 파이써닉하게 시퀀스 객체를 만드는 문법 \n",
    "\n",
    "> __반복문__ 및 __조건 테스트__를 결합한 문법 구조임 \n",
    "\n",
    "***\n",
    "\n",
    "~~~ python\n",
    "list_compre = [ target_expression for target in <순회 가능 객체> ]  \n",
    "\n",
    "list_condi_compre = [ target_expression for target in <순회 가능 객체> if <bool> ]                # 조건 표현식 포함 \n",
    "\n",
    "list_double_compre = [ (x, y) for x in < 순회 가능 객체 of x > for y in <순회 가능 객체 of y> ]   # 중첩 루프 \n",
    "\n",
    "dict_compre = {key_expression : value_expression  for expression in <순회 가능 객체> }    \n",
    "\n",
    "set_compre  = { expression for expression in <순회 가능 객체> }\n",
    "~~~\n",
    "\n",
    "*** \n",
    "### 종류 \n",
    "(1) List comprehension  <br/>\n",
    "(2) Dict comprehension - { 키\\_표현식 : 값\\_표현식 for 표현식 in 순회 가능 객체 } <br/> \n",
    "(3) Set comprehension -  { 표현식 for 표현식 in 순회 가능 객체 }  <br/> \n",
    "(4) Generator comprehension <br/>\n",
    "\n",
    "\n",
    ">Tuple comprehension은 없음 <br/>\n",
    "\n",
    "\n",
    ">제어레이터 객체: <span style=\"color:blue\">휘발성</span> <순회 가능 객체> 중 하나 \n",
    " * p.125, 141"
   ]
  },
  {
   "cell_type": "markdown",
   "metadata": {},
   "source": [
    "## 1. List comprehension "
   ]
  },
  {
   "cell_type": "markdown",
   "metadata": {},
   "source": [
    "만약 컴프리헨션 기능이 없다면, <br/>\n",
    "\n",
    "1부터 5까지의 정수 리스트를 다음과 같이 한 번에 하나씩 만들어야함 "
   ]
  },
  {
   "cell_type": "code",
   "execution_count": 1,
   "metadata": {},
   "outputs": [
    {
     "name": "stdout",
     "output_type": "stream",
     "text": [
      "[1, 2, 3, 4, 5]\n"
     ]
    }
   ],
   "source": [
    "number_list = [] \n",
    "number_list.append(1)\n",
    "number_list.append(2)\n",
    "number_list.append(3)\n",
    "number_list.append(4)\n",
    "number_list.append(5)\n",
    "\n",
    "print(number_list)"
   ]
  },
  {
   "cell_type": "markdown",
   "metadata": {},
   "source": [
    "코드 중복 발생 ⇒ 중복은 제거해야 함 \n",
    "\n",
    "혹은 "
   ]
  },
  {
   "cell_type": "code",
   "execution_count": 2,
   "metadata": {},
   "outputs": [
    {
     "name": "stdout",
     "output_type": "stream",
     "text": [
      "[1, 2, 3, 4, 5]\n"
     ]
    }
   ],
   "source": [
    "number_list = [] \n",
    "\n",
    "for num in range(1, 6): \n",
    "    number_list.append( num )\n",
    "    \n",
    "print(number_list)"
   ]
  },
  {
   "cell_type": "markdown",
   "metadata": {},
   "source": [
    "또는 "
   ]
  },
  {
   "cell_type": "code",
   "execution_count": 3,
   "metadata": {},
   "outputs": [
    {
     "name": "stdout",
     "output_type": "stream",
     "text": [
      "[1, 2, 3, 4, 5]\n"
     ]
    }
   ],
   "source": [
    "number_list = list( range(1, 6) )\n",
    "\n",
    "print( number_list )"
   ]
  },
  {
   "cell_type": "markdown",
   "metadata": {},
   "source": [
    "세 가지 모두 유효하고 동일한 결과을 주지만, <br/>\n",
    "comprehension 문법을 사용하는게 더 파이써닉함  <br/>\n",
    "\n",
    "\n",
    "### List comprehension 으로 컴팩트하게 \n",
    "\n"
   ]
  },
  {
   "cell_type": "markdown",
   "metadata": {},
   "source": [
    "리스트 컴프리헨션은 대괄호( [] ) 안에 루프<sup>loop</sup>가 있음"
   ]
  },
  {
   "cell_type": "code",
   "execution_count": 4,
   "metadata": {},
   "outputs": [
    {
     "name": "stdout",
     "output_type": "stream",
     "text": [
      "[1, 2, 3, 4, 5]\n"
     ]
    }
   ],
   "source": [
    "number_list = [ num for num in range(1, 6) ]\n",
    "\n",
    "print(number_list)"
   ]
  },
  {
   "cell_type": "code",
   "execution_count": 5,
   "metadata": {},
   "outputs": [
    {
     "data": {
      "text/plain": [
       "[-1, 0, 1, 2, 3]"
      ]
     },
     "execution_count": 5,
     "metadata": {},
     "output_type": "execute_result"
    }
   ],
   "source": [
    "[ num -2 for num in range(1, 6)]    # [ expression for target_var in range()]"
   ]
  },
  {
   "cell_type": "markdown",
   "metadata": {},
   "source": [
    "__다음과 같이 조건 표현식을 포함할 수 있음__\n",
    "\n",
    "~~~ python \n",
    "[ 표현식 for 항목 in 순회 가능한 객체 if 조건 ] \n",
    "~~~\n",
    "<br/>\n",
    "1과 5 사이에 홀수 리스트를 만드는 새 컴프리헨션을 만들면<br/>\n",
    "> (number % 2는 홀수일 때 True고, 짝수일 때 False임)"
   ]
  },
  {
   "cell_type": "code",
   "execution_count": 6,
   "metadata": {},
   "outputs": [
    {
     "name": "stdout",
     "output_type": "stream",
     "text": [
      "[1, 3, 5]\n"
     ]
    }
   ],
   "source": [
    "a_list = [ number for number in range(1, 6) if number % 2 == 1 ]\n",
    "\n",
    "print(a_list)"
   ]
  },
  {
   "cell_type": "markdown",
   "metadata": {},
   "source": [
    "### List comprehension이 없었다면 ? "
   ]
  },
  {
   "cell_type": "markdown",
   "metadata": {},
   "source": [
    "comprehension 기능이 없다면 조건이에 따른 시퀀스 생성은 다음과 같이 구현해야 함"
   ]
  },
  {
   "cell_type": "code",
   "execution_count": 7,
   "metadata": {},
   "outputs": [
    {
     "name": "stdout",
     "output_type": "stream",
     "text": [
      "[1, 3, 5]\n"
     ]
    }
   ],
   "source": [
    "a_list = [] \n",
    "\n",
    "for x in range(1, 6):\n",
    "    if x % 2 ==1:\n",
    "        a_list.append(x)\n",
    "        \n",
    "print(a_list )"
   ]
  },
  {
   "cell_type": "markdown",
   "metadata": {},
   "source": [
    "### 루프가 중첩된 Comprehension"
   ]
  },
  {
   "cell_type": "markdown",
   "metadata": {},
   "source": [
    "루프를 중첩할 수 있으니까, 컴프리헨션에서도 for 루프를 중첩할 수 있음 "
   ]
  },
  {
   "cell_type": "code",
   "execution_count": 8,
   "metadata": {},
   "outputs": [
    {
     "name": "stdout",
     "output_type": "stream",
     "text": [
      "(1, 1)\n",
      "(1, 2)\n",
      "(2, 1)\n",
      "(2, 2)\n",
      "(3, 1)\n",
      "(3, 2)\n",
      "1 1\n",
      "1 2\n",
      "2 1\n",
      "2 2\n",
      "3 1\n",
      "3 2\n"
     ]
    }
   ],
   "source": [
    "rows = range(1, 4)\n",
    "cols = range(1, 3)\n",
    "\n",
    "cells = [ (x, y) for x in rows for y in cols]\n",
    "\n",
    "for target in cells:\n",
    "    print(target)\n",
    "    \n",
    "    \n",
    "for x, y in cells:   # Unpacking from tuple \n",
    "    print(x, y)"
   ]
  },
  {
   "cell_type": "markdown",
   "metadata": {},
   "source": [
    "__comprehension이 없다면__"
   ]
  },
  {
   "cell_type": "code",
   "execution_count": 9,
   "metadata": {},
   "outputs": [
    {
     "name": "stdout",
     "output_type": "stream",
     "text": [
      "1 1\n",
      "1 2\n",
      "2 1\n",
      "2 2\n",
      "3 1\n",
      "3 2\n"
     ]
    }
   ],
   "source": [
    "for x in rows:\n",
    "    for y in cols:\n",
    "        print(x, y)"
   ]
  },
  {
   "cell_type": "markdown",
   "metadata": {},
   "source": [
    "\n",
    "\n"
   ]
  },
  {
   "cell_type": "markdown",
   "metadata": {},
   "source": [
    "## 2. Dictionary comprehension "
   ]
  },
  {
   "cell_type": "markdown",
   "metadata": {},
   "source": [
    " { 키\\_표현식 : 값\\_표현식 for 표현식 in 순회 가능 객체 }"
   ]
  },
  {
   "cell_type": "markdown",
   "metadata": {},
   "source": [
    "딕셔너리 컴프리헨션 또한 if... 테스트와 for... 중첩을 가질 수 있음 "
   ]
  },
  {
   "cell_type": "code",
   "execution_count": 10,
   "metadata": {},
   "outputs": [
    {
     "name": "stdout",
     "output_type": "stream",
     "text": [
      "{'l': 1, 'e': 2, 't': 2, 'r': 1, 's': 1}\n"
     ]
    }
   ],
   "source": [
    "word = \"letters\"     # ['l', 'e', 't', 't', 'e', 'r', 's']\n",
    "\n",
    "letter_counts = {letter : word.count(letter) for letter in word}\n",
    "print(letter_counts)"
   ]
  },
  {
   "cell_type": "code",
   "execution_count": 11,
   "metadata": {},
   "outputs": [
    {
     "data": {
      "text/plain": [
       "2"
      ]
     },
     "execution_count": 11,
     "metadata": {},
     "output_type": "execute_result"
    }
   ],
   "source": [
    "word.count('t')    # word 객체는 <str> 클래스의 인스턴스 \n",
    "                   # 인스턴스 변수에서 't'의 개수를 .count() "
   ]
  },
  {
   "cell_type": "markdown",
   "metadata": {},
   "source": [
    "문자열 'letters'의 각 일곱 글자를 반복해서 글자가 몇 번 나왔는지 개수를 센다. <br/>\n",
    "<br/>\n",
    "\n",
    "e와 t 모두 두 번씩 세지만 < dict > 객체는 중복이 없기 때문에 알아서 중복을 제거했다. \n",
    "> 하지만, 내부적으로 두 번씩 세기 때문에 두번의 word.count(letter)를 수행함 \n",
    "  * 이는 시간 낭비임 <br/>\n",
    "  \n",
    "#### 이걸 좀더 파이썬스럽게 고치면 다음과 같음 "
   ]
  },
  {
   "cell_type": "code",
   "execution_count": 12,
   "metadata": {},
   "outputs": [
    {
     "name": "stdout",
     "output_type": "stream",
     "text": [
      "{'l': 1, 'e': 2, 'r': 1, 't': 2, 's': 1}\n"
     ]
    }
   ],
   "source": [
    "letter_counts = {letter : word.count(letter) for letter in set(word)}\n",
    "print(letter_counts)"
   ]
  },
  {
   "cell_type": "code",
   "execution_count": 13,
   "metadata": {},
   "outputs": [
    {
     "data": {
      "text/plain": [
       "{'e', 'l', 'r', 's', 't'}"
      ]
     },
     "execution_count": 13,
     "metadata": {},
     "output_type": "execute_result"
    }
   ],
   "source": [
    "set(word)                # < set > 객체는 중복이 없다 "
   ]
  },
  {
   "cell_type": "markdown",
   "metadata": {},
   "source": [
    "\n",
    "\n",
    "\n"
   ]
  },
  {
   "cell_type": "markdown",
   "metadata": {},
   "source": [
    "## 3. Set comprehension "
   ]
  },
  {
   "cell_type": "markdown",
   "metadata": {},
   "source": [
    "{ 표현식 for 표현식 in 순회 가능 객체 } <br/> \n",
    "> 마찬가지 if... 테스트와 for.. 중첩이 가능 "
   ]
  },
  {
   "cell_type": "code",
   "execution_count": 14,
   "metadata": {},
   "outputs": [
    {
     "name": "stdout",
     "output_type": "stream",
     "text": [
      "{1, 4}\n"
     ]
    }
   ],
   "source": [
    "a_set = { num for num in range(1, 6) if num % 3 == 1 }\n",
    "\n",
    "print(a_set)"
   ]
  },
  {
   "cell_type": "markdown",
   "metadata": {},
   "source": [
    "\n",
    "\n",
    "\n"
   ]
  },
  {
   "cell_type": "markdown",
   "metadata": {},
   "source": [
    "## 4. Generator comprehension "
   ]
  },
  {
   "cell_type": "markdown",
   "metadata": {},
   "source": [
    "※ 신기하게 tuple comprehension은 없다 <br/>\n",
    "> 대괄호( [] )를 괄호( () )로 바꿔서 사용하면 tuple comprehension이라 생각하겠지만 아님!! \n",
    "\n",
    "__ tuple comprehension은 없음__ \n"
   ]
  },
  {
   "cell_type": "code",
   "execution_count": 15,
   "metadata": {
    "collapsed": true
   },
   "outputs": [],
   "source": [
    "num_thing = ( num for num in range(1, 6))"
   ]
  },
  {
   "cell_type": "markdown",
   "metadata": {},
   "source": [
    "자연스럽게 tuple comprehension이라고 생각하겠지? "
   ]
  },
  {
   "cell_type": "code",
   "execution_count": 16,
   "metadata": {},
   "outputs": [
    {
     "data": {
      "text/plain": [
       "generator"
      ]
     },
     "execution_count": 16,
     "metadata": {},
     "output_type": "execute_result"
    }
   ],
   "source": [
    "type(num_thing)"
   ]
  },
  {
   "cell_type": "markdown",
   "metadata": {},
   "source": [
    "근데 아니야 <br/>\n",
    "\n",
    "__제너레이터 객체__가 반환됐어 <br/>\n",
    "<br/>\n",
    "\n",
    "\n",
    "#### ※ 제너레이터(p. 141)\n",
    "> iterator에 데이터를 제공하는 방법중 하나 \n",
    "   * 제너레이터 객체: <순회 가능 객체> \n",
    "   * 시퀀스 객체를 만들 수 있음 "
   ]
  },
  {
   "cell_type": "markdown",
   "metadata": {},
   "source": [
    "__제너레이터로 순회하기__"
   ]
  },
  {
   "cell_type": "code",
   "execution_count": 17,
   "metadata": {},
   "outputs": [
    {
     "name": "stdout",
     "output_type": "stream",
     "text": [
      "1\n",
      "2\n",
      "3\n",
      "4\n",
      "5\n"
     ]
    }
   ],
   "source": [
    "for num in num_thing:  \n",
    "    print(num)"
   ]
  },
  {
   "cell_type": "markdown",
   "metadata": {},
   "source": [
    "__시퀀스 객체 생성 with 제너레이터__"
   ]
  },
  {
   "cell_type": "code",
   "execution_count": 18,
   "metadata": {},
   "outputs": [
    {
     "name": "stdout",
     "output_type": "stream",
     "text": [
      "<class 'generator'>\n",
      "[1, 2, 3, 4, 5]\n"
     ]
    }
   ],
   "source": [
    "gen_thing = (num for num in range(1,6))\n",
    "print(type(gen_thing))\n",
    "\n",
    "num_list = list( gen_thing )\n",
    "print(num_list)"
   ]
  },
  {
   "cell_type": "markdown",
   "metadata": {},
   "source": [
    "__<span style=\"color:red\">NOTE </span>__: \n",
    "* 제너레이터는 한 버만 실행 됨 \n",
    "> list, set, string, dict은 객제가 메모리에 존재함 \n",
    "\n",
    "* 제너레이터 메모리에 저장이 안됨 \n",
    "> 그래서 한번쓰면 지워짐 <br/>\n",
    "\n",
    "그래서 위의 gen_thing 객체는 한번 썼으니까 이제 없음 "
   ]
  },
  {
   "cell_type": "code",
   "execution_count": 19,
   "metadata": {},
   "outputs": [
    {
     "name": "stdout",
     "output_type": "stream",
     "text": [
      "[]\n"
     ]
    }
   ],
   "source": [
    "print(list(gen_thing) )"
   ]
  },
  {
   "cell_type": "markdown",
   "metadata": {},
   "source": [
    "\n",
    "\n",
    "\n",
    "\n"
   ]
  },
  {
   "cell_type": "markdown",
   "metadata": {},
   "source": [
    "※ 제너레이터 객체 만드는 방법 \n",
    "> (1) generator comprehension (p.125) <br/>\n",
    "> (2) generator function (p.141)"
   ]
  },
  {
   "cell_type": "code",
   "execution_count": null,
   "metadata": {
    "collapsed": true
   },
   "outputs": [],
   "source": []
  }
 ],
 "metadata": {
  "kernelspec": {
   "display_name": "Python 3",
   "language": "python",
   "name": "python3"
  },
  "language_info": {
   "codemirror_mode": {
    "name": "ipython",
    "version": 3
   },
   "file_extension": ".py",
   "mimetype": "text/x-python",
   "name": "python",
   "nbconvert_exporter": "python",
   "pygments_lexer": "ipython3",
   "version": "3.6.3"
  }
 },
 "nbformat": 4,
 "nbformat_minor": 2
}
