{
 "cells": [
  {
   "cell_type": "markdown",
   "metadata": {},
   "source": [
    "# 파이 크러스트: 코드 구조 \n",
    "![pie_crust](./images/pie_crust.jpg)"
   ]
  },
  {
   "cell_type": "markdown",
   "metadata": {},
   "source": [
    "Pie crust? Py-crust? <br/>\n",
    "말장난인거 같음. \n",
    "\n",
    "피자 빵껍질 처럼 파이도<sup>pie</sup>태두리 외각을 예쁜 구조로 만들면 먹음직스럽게 보일것임. "
   ]
  },
  {
   "cell_type": "markdown",
   "metadata": {},
   "source": [
    "__1~3장 까지 배운것__\n",
    "> * Data type : int, float, string, bool  \n",
    "\n",
    "> * Data structure : list() tuple() dict() set() \n",
    "\n",
    "주로 데이터에 대해 다뤘음 "
   ]
  },
  {
   "cell_type": "markdown",
   "metadata": {},
   "source": [
    "이번 chapter에서는 <span style=\"color:blue\">파이썬 코드를 어떻게 구조화할지 살펴봄<span>"
   ]
  },
  {
   "cell_type": "markdown",
   "metadata": {},
   "source": [
    "## 구두 문자 (punctuation character)\n",
    "\n",
    "### 1. 코드 블럭 구분 \n",
    "수많은 컴퓨터 언어는 코드의 __시작__ ~ __끝__을 표시(구분)하기 위해 구두 문자를 사용함 \n",
    "> (1) 키워드<sup>keyword</sup> 사용 \n",
    "  * ex) $<start>$  ~  $</end>$\n",
    "  \n",
    "> (2) 중괄호({ }) 같은 문자 사용  "
   ]
  },
  {
   "cell_type": "markdown",
   "metadata": {},
   "source": [
    "또한 사람이 읽는 것이기 때문에 가독성에도 신경씀 \n",
    "> * 일관된 들여쓰기 습관 \n",
    "\n",
    "> * 코드라인 정리 "
   ]
  },
  {
   "cell_type": "markdown",
   "metadata": {},
   "source": [
    "Python의 창시자 '반 로섬'은 __코드 구분을 위해__ 괄호 없이 들여쓰기 만으로 프로그램 구조를 정의하는 데에 충분하다고 생각함 \n",
    "> Python은 들여쓰기(4칸, tap)로 프로그램의 구조를 정의하는 언어임 \n",
    "\n",
    "C/C++은 {}와 ; 으로 구분짓지 "
   ]
  },
  {
   "cell_type": "markdown",
   "metadata": {},
   "source": [
    " "
   ]
  },
  {
   "cell_type": "markdown",
   "metadata": {},
   "source": [
    "### 2. 코멘트 달기(comment, 주석) \n",
    "\\# 문자가 시작된 곳부터 그 라인의 마지막까지 \n",
    "> 해시<sup>hash</sup>, 샤프<sup>sharp</sup>, 파운드<sup>pound</sup>, 옥토쏘르프<sup>octothorpe</sup>로 불림 "
   ]
  },
  {
   "cell_type": "code",
   "execution_count": 7,
   "metadata": {},
   "outputs": [],
   "source": [
    "# 이거는 출력이 안되지롱 "
   ]
  },
  {
   "cell_type": "code",
   "execution_count": 8,
   "metadata": {},
   "outputs": [],
   "source": [
    "seconds_per_day = 864000   # 이 옆으로는 안나오지롱 "
   ]
  },
  {
   "cell_type": "markdown",
   "metadata": {},
   "source": [
    "\\# 문자가 문자열<sup>string</sup>안에 있으면, 코멘트가 아닌 평범한 문자로 돌아감 "
   ]
  },
  {
   "cell_type": "code",
   "execution_count": 9,
   "metadata": {},
   "outputs": [
    {
     "name": "stdout",
     "output_type": "stream",
     "text": [
      "No comment: Quotes make the # harmless.\n"
     ]
    }
   ],
   "source": [
    "print(\"No comment: Quotes make the # harmless.\")"
   ]
  },
  {
   "cell_type": "markdown",
   "metadata": {},
   "source": [
    " \n"
   ]
  },
  {
   "cell_type": "markdown",
   "metadata": {},
   "source": [
    "### 3. 라인 유지하기:  \\ \n",
    "가독성을 위해 필요함.  <br/>\n",
    "\n",
    "라인이 적당하게 짧으면 코드를 더 쉽게 읽을 수 있음. <br/>\n",
    "> 한 라인에 권장하는 최대 문자수는 80자 \n",
    "\n",
    "하지만, <br/>\n",
    "이 길이 안에 다 못넣는다면 백슬래시( \\\\ )를 입력하면, 파이썬은 여전히 다음 라인도 이어진 같은 라인으로 인식함 "
   ]
  },
  {
   "cell_type": "code",
   "execution_count": 10,
   "metadata": {},
   "outputs": [],
   "source": [
    "alphabet = \"abcdefg\"   + \\\n",
    "           \"hijklmnop\" + \\\n",
    "           \"qrstuv\"    + \\\n",
    "           \"wxyz\""
   ]
  },
  {
   "cell_type": "code",
   "execution_count": 11,
   "metadata": {},
   "outputs": [
    {
     "name": "stdout",
     "output_type": "stream",
     "text": [
      "abcdefghijklmnopqrstuvwxyz\n"
     ]
    }
   ],
   "source": [
    "print(alphabet)"
   ]
  },
  {
   "cell_type": "code",
   "execution_count": 12,
   "metadata": {},
   "outputs": [
    {
     "ename": "SyntaxError",
     "evalue": "invalid syntax (<ipython-input-12-c8d7ef86db49>, line 1)",
     "output_type": "error",
     "traceback": [
      "\u001b[1;36m  File \u001b[1;32m\"<ipython-input-12-c8d7ef86db49>\"\u001b[1;36m, line \u001b[1;32m1\u001b[0m\n\u001b[1;33m    a = 1 + 2 +\u001b[0m\n\u001b[1;37m                ^\u001b[0m\n\u001b[1;31mSyntaxError\u001b[0m\u001b[1;31m:\u001b[0m invalid syntax\n"
     ]
    }
   ],
   "source": [
    "a = 1 + 2 + \n",
    "    3"
   ]
  },
  {
   "cell_type": "code",
   "execution_count": null,
   "metadata": {},
   "outputs": [],
   "source": []
  }
 ],
 "metadata": {
  "kernelspec": {
   "display_name": "Python 3",
   "language": "python",
   "name": "python3"
  },
  "language_info": {
   "codemirror_mode": {
    "name": "ipython",
    "version": 3
   },
   "file_extension": ".py",
   "mimetype": "text/x-python",
   "name": "python",
   "nbconvert_exporter": "python",
   "pygments_lexer": "ipython3",
   "version": "3.6.5"
  }
 },
 "nbformat": 4,
 "nbformat_minor": 2
}
