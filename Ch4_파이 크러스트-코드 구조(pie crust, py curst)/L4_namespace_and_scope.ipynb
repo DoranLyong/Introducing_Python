{
 "cells": [
  {
   "cell_type": "markdown",
   "metadata": {},
   "source": [
    "# 네임스페이스와 스코프 "
   ]
  },
  {
   "cell_type": "markdown",
   "metadata": {},
   "source": [
    "(p.145)<br/>\n",
    "\n",
    "[지역변수 vs 전역변수](https://blog.naver.com/cheeryun/221374379173) <br/>\n",
    "\n",
    "[지역 범위_Local scope](https://blog.naver.com/cheeryun/221355245061) <br/>\n",
    "\n",
    "[Scope](https://blog.naver.com/cheeryun/221374345525)"
   ]
  },
  {
   "cell_type": "markdown",
   "metadata": {},
   "source": [
    "__namespace__ : \n",
    "* A마을 똘복이 \n",
    "* B마을 똘복이 \n",
    "\n",
    "이름 충돌을 막을 수 있음 \n",
    " ### 같은 이름이라도 서로 다른 메모리 공간에 있다는 뜻임 \n",
    "> 같은 네임스페이스에서는 '이름<sup>name</sup>'이 유일해야함 "
   ]
  },
  {
   "cell_type": "markdown",
   "metadata": {},
   "source": [
    "이름(name)은 사용되는 위치에 따라 다른 것을 참조할 수 있다(=끌어다 쓸 수 있음). <br/> \n",
    "> [메모리에 접근하는 방법](https://blog.naver.com/cheeryun/221355216099) <br/>\n",
    "  (1) 변수 이름으로 접근 <br/>\n",
    "  (2) 메모리 주소로 접근(pointer, reference ... in C++)\n",
    "\n",
    "__[example]__ <br/>\n",
    "각 함수는 자신의 namespace를 정의함. <br/>\n",
    "\n",
    "메인 프로그램(\\__main\\__)에서 x라는 변수를 정의했다면, <br/>\n",
    "함수에서 똑같은 이름인 x라는 변수를 정의했을 때, 이들은 __서로 다른 메모리__를 참조함. "
   ]
  },
  {
   "cell_type": "markdown",
   "metadata": {},
   "source": [
    "\n",
    "\n"
   ]
  },
  {
   "cell_type": "markdown",
   "metadata": {},
   "source": [
    "`다른 네임스페이스의 이름에 서로 넘을 수도 있음 "
   ]
  },
  {
   "cell_type": "markdown",
   "metadata": {},
   "source": [
    "## (1) 전역 네임스페이스(global namespace): 전역 변수"
   ]
  },
  {
   "cell_type": "markdown",
   "metadata": {},
   "source": [
    "전역 네임스페이스에 있는 변수들은 __전역 변수__<sup>global variable</sup>임."
   ]
  },
  {
   "cell_type": "markdown",
   "metadata": {},
   "source": [
    "> 메인 프로그램(\\__main\\__)은 global namespace를 정의함 "
   ]
  },
  {
   "cell_type": "markdown",
   "metadata": {},
   "source": [
    "### from 함수 to 전역 변수 접근 및 읽기"
   ]
  },
  {
   "cell_type": "code",
   "execution_count": 1,
   "metadata": {},
   "outputs": [
    {
     "name": "stdout",
     "output_type": "stream",
     "text": [
      "at the top level: Tiger\n"
     ]
    }
   ],
   "source": [
    "animal = 'Tiger' \n",
    "\n",
    "def print_global():\n",
    "    print(\"inside print_global:\", animal)\n",
    "    \n",
    "print(\"at the top level:\", animal)"
   ]
  },
  {
   "cell_type": "code",
   "execution_count": 2,
   "metadata": {},
   "outputs": [
    {
     "name": "stdout",
     "output_type": "stream",
     "text": [
      "inside print_global: Tiger\n"
     ]
    }
   ],
   "source": [
    "print_global()"
   ]
  },
  {
   "cell_type": "markdown",
   "metadata": {},
   "source": [
    "메인 코드블럭은 global namespace고 거기에 있는 변수 animal은 전역 변수임 <br/>\n",
    "\n",
    "∴ 함수 내부에서 전역 변수에 접근할 수 있음 \n",
    "> 단, 충돌할 이름이 없을 때 "
   ]
  },
  {
   "cell_type": "markdown",
   "metadata": {},
   "source": [
    "### from 함수 to 전역 변수 접근 및 수정 "
   ]
  },
  {
   "cell_type": "code",
   "execution_count": 3,
   "metadata": {},
   "outputs": [
    {
     "ename": "UnboundLocalError",
     "evalue": "local variable 'animal' referenced before assignment",
     "output_type": "error",
     "traceback": [
      "\u001b[1;31m---------------------------------------------------------------------------\u001b[0m",
      "\u001b[1;31mUnboundLocalError\u001b[0m                         Traceback (most recent call last)",
      "\u001b[1;32m<ipython-input-3-62f13e6b5bea>\u001b[0m in \u001b[0;36m<module>\u001b[1;34m()\u001b[0m\n\u001b[0;32m      4\u001b[0m     \u001b[0mprint\u001b[0m\u001b[1;33m(\u001b[0m\u001b[1;34m\"after the change:\"\u001b[0m\u001b[1;33m,\u001b[0m \u001b[0manimal\u001b[0m\u001b[1;33m)\u001b[0m\u001b[1;33m\u001b[0m\u001b[0m\n\u001b[0;32m      5\u001b[0m \u001b[1;33m\u001b[0m\u001b[0m\n\u001b[1;32m----> 6\u001b[1;33m \u001b[0mchange_and_print_global\u001b[0m\u001b[1;33m(\u001b[0m\u001b[1;33m)\u001b[0m\u001b[1;33m\u001b[0m\u001b[0m\n\u001b[0m",
      "\u001b[1;32m<ipython-input-3-62f13e6b5bea>\u001b[0m in \u001b[0;36mchange_and_print_global\u001b[1;34m()\u001b[0m\n\u001b[0;32m      1\u001b[0m \u001b[1;32mdef\u001b[0m \u001b[0mchange_and_print_global\u001b[0m\u001b[1;33m(\u001b[0m\u001b[1;33m)\u001b[0m\u001b[1;33m:\u001b[0m\u001b[1;33m\u001b[0m\u001b[0m\n\u001b[1;32m----> 2\u001b[1;33m     \u001b[0mprint\u001b[0m\u001b[1;33m(\u001b[0m\u001b[1;34m\"inside change_and_print_global:\"\u001b[0m\u001b[1;33m,\u001b[0m \u001b[0manimal\u001b[0m\u001b[1;33m)\u001b[0m\u001b[1;33m\u001b[0m\u001b[0m\n\u001b[0m\u001b[0;32m      3\u001b[0m     \u001b[0manimal\u001b[0m \u001b[1;33m=\u001b[0m \u001b[1;34m'Lion'\u001b[0m\u001b[1;33m\u001b[0m\u001b[0m\n\u001b[0;32m      4\u001b[0m     \u001b[0mprint\u001b[0m\u001b[1;33m(\u001b[0m\u001b[1;34m\"after the change:\"\u001b[0m\u001b[1;33m,\u001b[0m \u001b[0manimal\u001b[0m\u001b[1;33m)\u001b[0m\u001b[1;33m\u001b[0m\u001b[0m\n\u001b[0;32m      5\u001b[0m \u001b[1;33m\u001b[0m\u001b[0m\n",
      "\u001b[1;31mUnboundLocalError\u001b[0m: local variable 'animal' referenced before assignment"
     ]
    }
   ],
   "source": [
    "def change_and_print_global():\n",
    "    print(\"inside change_and_print_global:\", animal)\n",
    "    animal = 'Lion'\n",
    "    print(\"after the change:\", animal)\n",
    "    \n",
    "change_and_print_global()"
   ]
  },
  {
   "cell_type": "markdown",
   "metadata": {},
   "source": [
    "따라서, <br/>\n",
    "### 함수에서 전역 변수 참조: ~~C~~. R. ~~U~~. ~~D~~  \n",
    "> 함수 네임스페이스에서 전역 변수에 접근해서 읽을 수 있음(Read) \n",
    "\n",
    "> 함수 내부에서 전역 변수 수정 불가능 "
   ]
  },
  {
   "cell_type": "markdown",
   "metadata": {},
   "source": [
    "# (2) 지역 네임스페이스: 지역 변수(local variable) "
   ]
  },
  {
   "cell_type": "code",
   "execution_count": null,
   "metadata": {
    "collapsed": true
   },
   "outputs": [],
   "source": [
    "wine = \"White\"         # 전역 네임스페이스에 있는 \n",
    "                       # 전역변수 \n",
    "\n",
    "def change_local():\n",
    "    wine = 'Red'       # 지역 변수\n",
    "    print(\"inside change_local: \", wine, id(wine))"
   ]
  },
  {
   "cell_type": "code",
   "execution_count": null,
   "metadata": {},
   "outputs": [],
   "source": [
    "change_local()"
   ]
  },
  {
   "cell_type": "markdown",
   "metadata": {},
   "source": [
    "#### id( < object > ) : 객체의 식별자(id)를 반환 \n",
    "> 메모리 상의 객체의 주소(address)"
   ]
  },
  {
   "cell_type": "markdown",
   "metadata": {},
   "source": [
    "__전역 변수 출력__"
   ]
  },
  {
   "cell_type": "code",
   "execution_count": null,
   "metadata": {},
   "outputs": [],
   "source": [
    "wine"
   ]
  },
  {
   "cell_type": "code",
   "execution_count": null,
   "metadata": {},
   "outputs": [],
   "source": [
    "id(wine)"
   ]
  },
  {
   "cell_type": "markdown",
   "metadata": {},
   "source": [
    "전역 네임스페이스에 있는(= 메인 코드블럭에 있는) 전역 변수 'wine'과 <br/>\n",
    "함수 내부의 지역 변수 'wine'은 변수 이름은 같지만 <span style=\"color:blue\">서로 다른 메모리를 참조</span>한다 \n",
    "> id( ) 값이 다름"
   ]
  },
  {
   "cell_type": "markdown",
   "metadata": {},
   "source": [
    "# (3) Local namespace에서 Global namespace의 객체를 수정하려면?"
   ]
  },
  {
   "cell_type": "markdown",
   "metadata": {},
   "source": [
    "키워드 '<span style=\"color:orange\">global</span>'로 전역 변수에 대한 접근을 명시해야함\n",
    "> 파이썬 철학: __명확한 것이 함축적인 것보다 낫다__"
   ]
  },
  {
   "cell_type": "code",
   "execution_count": null,
   "metadata": {},
   "outputs": [],
   "source": [
    "def change_and_print_global(): # Local namespace \n",
    "    \n",
    "    global wine_t              # Local namespace에서 전역 변수에 접근하겠다 \n",
    "                               # 허가 바람\n",
    "    \n",
    "    wine_t = \"White_wine\"      # 전역 변수를 C.R.U.D \n",
    "    print(\"inside change_and_print_global:\", wine_t, id(wine_t) )\n",
    "\n",
    "\n",
    "if __name__ == \"__main__\":    # Global namespace \n",
    "    \n",
    "    wine_t = \"Red_wine\"       # 전역 변수 \n",
    "    \n",
    "    print(\"변경 전: \", wine_t)\n",
    "    \n",
    "    change_and_print_global() # 변경! \n",
    "    \n",
    "    print(\"변경 후 : \", wine_t)"
   ]
  },
  {
   "cell_type": "markdown",
   "metadata": {},
   "source": [
    "'__<span style=\"color:orange\">global</span>__' 키워드가 없었으면,\n",
    "> 함수 객체 내부는 Local namespace이기 때문에 변수 wine_t를 지역 변수로 인식함 "
   ]
  },
  {
   "cell_type": "markdown",
   "metadata": {},
   "source": [
    "\n",
    "\n"
   ]
  },
  {
   "cell_type": "markdown",
   "metadata": {},
   "source": [
    "# (4) Namespace에 접근하기 위한 함수 "
   ]
  },
  {
   "cell_type": "markdown",
   "metadata": {},
   "source": [
    "* locals() : \n",
    "> local namespace의 내용을 담은 < dict > 객체 반환 <br/>\n",
    "\n",
    "* globals() : \n",
    "> global namespace의 내용을 담은 < dict > 객체 반환 "
   ]
  },
  {
   "cell_type": "code",
   "execution_count": null,
   "metadata": {},
   "outputs": [],
   "source": [
    "def change_local():         # Local namespace \n",
    "    wine = \"Rose_type\"      # 지역 변수 \n",
    "    print(\"Local namespace : \", locals())\n",
    "\n",
    "\n",
    "\n",
    "if __name__ == \"__main__\":  # Global namespace \n",
    "    wine = \"Red_type\"       # 전역 변수 \n",
    "    \n",
    "    print(\"변경 전: \", wine) \n",
    "    \n",
    "    change_local()         # 변경!!    "
   ]
  },
  {
   "cell_type": "markdown",
   "metadata": {},
   "source": [
    "출력을 보아 change_local() 함수 내의 로컬 네임스페이스에는 wine 지역 변수만 있음 "
   ]
  },
  {
   "cell_type": "code",
   "execution_count": null,
   "metadata": {},
   "outputs": [],
   "source": [
    "      print(\"Global namespace : \", globals())"
   ]
  },
  {
   "cell_type": "markdown",
   "metadata": {},
   "source": [
    "메인 프로그램의 글로벌 네임스페이스에는 전역 변수 wine 이외에 다른 여러 가지 것들이 포함됨 "
   ]
  },
  {
   "cell_type": "code",
   "execution_count": null,
   "metadata": {
    "collapsed": true
   },
   "outputs": [],
   "source": []
  }
 ],
 "metadata": {
  "kernelspec": {
   "display_name": "Python 3",
   "language": "python",
   "name": "python3"
  }
 },
 "nbformat": 4,
 "nbformat_minor": 2
}
