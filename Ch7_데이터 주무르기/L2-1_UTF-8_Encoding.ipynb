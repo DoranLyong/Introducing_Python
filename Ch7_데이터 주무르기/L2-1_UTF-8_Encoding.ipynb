{
 "cells": [
  {
   "cell_type": "markdown",
   "metadata": {},
   "source": [
    "# UTF-8 인코딩 and 디코딩 "
   ]
  },
  {
   "cell_type": "markdown",
   "metadata": {},
   "source": [
    "### ※ encoding , decoding 이미지 \n",
    "차원 변화라고 생각하자 \n",
    "* encoding: 차원 축소 \n",
    "* decoding: 차원 복원"
   ]
  },
  {
   "cell_type": "markdown",
   "metadata": {},
   "source": [
    "파이썬 내부적으로는 일반 문자열을 처리할 때, 각 유니코드 문자를 저장하는 방법에 대해 걱정 안 해도 됨 \n",
    "> __제일 문제는__ <span style=\"color:blue\">외부 데이터<sup>(=파이썬 이외의 형식)</sup>를 교환하고 저장할 때</span> 전처리 과정이 필요함 \n",
    " * 문자열<sup>string</sup> → byte로 __인코딩__  (사람이 못알아 보는 저차원으로)\n",
    " * byte → 문자열로 __디코딩__ (사람이 알아보는 고차원으로)"
   ]
  },
  {
   "cell_type": "markdown",
   "metadata": {},
   "source": [
    "유니코드에 64,000 개 미만의 문자가 있다면, \n",
    "> 2 byte 만으로 유니코드 문자의 식별자를 저장할 수 있음 "
   ]
  },
  {
   "cell_type": "markdown",
   "metadata": {},
   "source": [
    "2 byte ⇒ $2^{16}$ 가지 "
   ]
  },
  {
   "cell_type": "code",
   "execution_count": 2,
   "metadata": {},
   "outputs": [
    {
     "data": {
      "text/plain": [
       "65536"
      ]
     },
     "execution_count": 2,
     "metadata": {},
     "output_type": "execute_result"
    }
   ],
   "source": [
    "2**16"
   ]
  },
  {
   "cell_type": "markdown",
   "metadata": {},
   "source": [
    "__But__, 문자가 이보다 더 많음 <br/>\n",
    "\n",
    "3~4 byte의 식별자를 인코딩할 수 있지만, \n",
    "> 텍스트 문자열에 대한 메모리 및 디스크 저장 공간이 3~4배 증가됨 "
   ]
  },
  {
   "cell_type": "markdown",
   "metadata": {},
   "source": [
    "이 문제를 해결하기 위해 나온 것이 <span style=\"color:blue\">'__UTF-8__' 동적 인코딩 형식</span>\n",
    "> 유니코드 한 문자당 1 ~ 4 byte 사용 \n",
    " * 1 byte: ASCII \n",
    " * 2 byte: 키릴<sup>Cyrillic</sup> 문자를 제외한 대부분의 파생된 라틴어 \n",
    " * 3 byte: 기본 다국어 평면의 나머지 \n",
    " * 4 byte: 아시아 언어 및 기호를 포함한 나머지 "
   ]
  },
  {
   "cell_type": "markdown",
   "metadata": {},
   "source": [
    "### ※ UTF-8  인코딩 특징:\n",
    "> (1) Python, Linux, HTML의 표준 텍스트<sup>text</sup> 인코딩<sup>=('string' to 'byte')</sup> <br/>\n",
    "> (2) 빠름 / 안정적인 동작  \n",
    "   * 다른 인코딩 방식을 쓰는 것보다 인생낭비가 없음 "
   ]
  },
  {
   "cell_type": "markdown",
   "metadata": {},
   "source": [
    "__<span style=\"color:red\">NOTE</span>__ <br/>\n",
    "* 웹 페이지(web page)같은 다른 소스에서 복사/붙여넣기로 문자열을 가져와 작성하는 경우 \n",
    "> 그 소스가 __UTF-8__ 형식으로 인코딩됐는지 꼭 확인 <br/>\n",
    "\n",
    "보통 문자열을 복사할 때 'Latin-1' 혹은 '[Windows 1252](https://github.com/DoranLyong/Introducing_Python/blob/master/Ch7_%EB%8D%B0%EC%9D%B4%ED%84%B0%20%EC%A3%BC%EB%AC%B4%EB%A5%B4%EA%B8%B0/L1_handling_data_to%20various%20data%20type.ipynb)' 형식으로 인코딩된 텍스트를 쉽게 볼 수 있음. <br/>\n",
    " * 요놈들은 나중에 __바이트 시퀀스__<sup>byte sequence</sup> 가 유효하지 않다는 예외를 발생시킴 <br/>\n",
    " \n",
    " (ex) 리눅스 환경에서 python 코드를 실행시키려했을 때, 이런 인코딩 문제를 만났다. <br/>\n",
    "      코드 내부에는 한글 주석이 있었는데 이를 인터프리터가 받아들이지 못해서였다. \n",
    "      * 그래서 코드 맨 상위에 인코딩 방식을 명시해주었다. "
   ]
  },
  {
   "cell_type": "markdown",
   "metadata": {},
   "source": [
    "***"
   ]
  },
  {
   "cell_type": "markdown",
   "metadata": {},
   "source": [
    "## 인코딩(encoding): 차원 축소 \n",
    "__문자열__을 __바이트__로 endcoding해보자.\n",
    "> * <str> 객체의 .encode() 메소드를 사용한다. \n",
    "\n",
    "~~~ python \n",
    "<str>.encode(\"<인코딩 이름>\", ) \n",
    "\n",
    "~~~"
   ]
  },
  {
   "cell_type": "markdown",
   "metadata": {},
   "source": [
    "__\\[ 인코딩 이름 \\]__ <br/>\n",
    "\n",
    "| \"ascii\"          | 7 bit ASCII                                                        |\n",
    "|------------------|--------------------------------------------------------------------|\n",
    "| \"utf-8\"          | 8 bit 가변 길이 인코딩 형식(동적 인코딩), 거의 대부분의 문자 지원  |\n",
    "| \"latin-1\"        | ISO 8859-1로도 알려짐                                              |\n",
    "| \"cp-1252\"        | 윈도우 인코딩 형식                                                 |\n",
    "| \"unicode-escape\" | 파이썬 유니코드 리터럴 형식. \\uxxxx 또는 \\Uxxxx                    |"
   ]
  },
  {
   "cell_type": "markdown",
   "metadata": {},
   "source": [
    "(1) 어떤 것이든 UTF-8로 인코딩 가능   \n",
    "* 유니코드 문자 '\\u2603'을 snowman 변수에 할당해봄 "
   ]
  },
  {
   "cell_type": "code",
   "execution_count": 11,
   "metadata": {},
   "outputs": [],
   "source": [
    "snowman = \"\\u2603\""
   ]
  },
  {
   "cell_type": "markdown",
   "metadata": {},
   "source": [
    "snowman은 한 문자의 파이썬 유니코드 문자열임 \n",
    "> 내부적으로 몇 바이트가 저장됐는지 알 필요 없음 (파이썬은 동적 할당이니까) "
   ]
  },
  {
   "cell_type": "code",
   "execution_count": 12,
   "metadata": {},
   "outputs": [
    {
     "data": {
      "text/plain": [
       "1"
      ]
     },
     "execution_count": 12,
     "metadata": {},
     "output_type": "execute_result"
    }
   ],
   "source": [
    "len(snowman) # 한 문자 "
   ]
  },
  {
   "cell_type": "code",
   "execution_count": 15,
   "metadata": {},
   "outputs": [
    {
     "name": "stdout",
     "output_type": "stream",
     "text": [
      "☃\n"
     ]
    }
   ],
   "source": [
    "print(snowman) # 한 문자"
   ]
  },
  {
   "cell_type": "markdown",
   "metadata": {},
   "source": [
    "(2) 유니코드 문자를 byte sequence로 인코딩함 "
   ]
  },
  {
   "cell_type": "code",
   "execution_count": 16,
   "metadata": {},
   "outputs": [],
   "source": [
    "ds = snowman.encode(\"utf-8\")"
   ]
  },
  {
   "cell_type": "markdown",
   "metadata": {},
   "source": [
    "UTF-8은 가변 길이 인코딩(=동적 인코딩)임. \n",
    "* 따라서 이 유니코드 문자를 인코딩하기 위해 3byte를 사용함 (=byte 길이가 변했지) "
   ]
  },
  {
   "cell_type": "code",
   "execution_count": 19,
   "metadata": {},
   "outputs": [
    {
     "data": {
      "text/plain": [
       "3"
      ]
     },
     "execution_count": 19,
     "metadata": {},
     "output_type": "execute_result"
    }
   ],
   "source": [
    "len(ds)    # ds는 바이트 변수기 때문에 len()은 숫자 3을 반환 "
   ]
  },
  {
   "cell_type": "code",
   "execution_count": 20,
   "metadata": {},
   "outputs": [
    {
     "data": {
      "text/plain": [
       "b'\\xe2\\x98\\x83'"
      ]
     },
     "execution_count": 20,
     "metadata": {},
     "output_type": "execute_result"
    }
   ],
   "source": [
    "ds"
   ]
  },
  {
   "cell_type": "markdown",
   "metadata": {},
   "source": [
    "<span style=\"color:red\">__NOTE__</span> <br/>\n",
    "__UTF-8__ 이외의 인코딩도 가능 \n",
    "> but, \"\\u2603\" 처럼 __유니코드 문자열__을 인코딩할 수 없으면, 에러 발생 "
   ]
  },
  {
   "cell_type": "code",
   "execution_count": 21,
   "metadata": {},
   "outputs": [
    {
     "ename": "UnicodeEncodeError",
     "evalue": "'ascii' codec can't encode character '\\u2603' in position 0: ordinal not in range(128)",
     "output_type": "error",
     "traceback": [
      "\u001b[1;31m---------------------------------------------------------------------------\u001b[0m",
      "\u001b[1;31mUnicodeEncodeError\u001b[0m                        Traceback (most recent call last)",
      "\u001b[1;32m<ipython-input-21-fc8a23239725>\u001b[0m in \u001b[0;36m<module>\u001b[1;34m()\u001b[0m\n\u001b[1;32m----> 1\u001b[1;33m \u001b[0mdss\u001b[0m \u001b[1;33m=\u001b[0m \u001b[0msnowman\u001b[0m\u001b[1;33m.\u001b[0m\u001b[0mencode\u001b[0m\u001b[1;33m(\u001b[0m\u001b[1;34m\"ascii\"\u001b[0m\u001b[1;33m)\u001b[0m\u001b[1;33m\u001b[0m\u001b[0m\n\u001b[0m",
      "\u001b[1;31mUnicodeEncodeError\u001b[0m: 'ascii' codec can't encode character '\\u2603' in position 0: ordinal not in range(128)"
     ]
    }
   ],
   "source": [
    "dss = snowman.encode(\"ascii\")"
   ]
  },
  {
   "cell_type": "markdown",
   "metadata": {},
   "source": [
    "ASCII로 인코딩을 하려고 했더니 에러 발생 \n",
    "> 해당 유니코드 문자가 유효한 아스키 문자가 아니라서(=ASCII에 없는 문자라) 실패 "
   ]
  },
  {
   "cell_type": "markdown",
   "metadata": {},
   "source": [
    "### 이런 에러가 발생했다면, .encode() 메소드는 예외처리를 위해 두 번째 인자를 취할 수 있다 \n",
    "\n",
    "~~~ python \n",
    "<문자열>.encode(\"<인코딩 이름>\", \"<예외_처리_명령>\") \n",
    "~~~\n",
    "\n",
    "__\\[ 예외 처리 명령 \\]__ <br/>\n",
    "(1) \"strict\"  \n",
    "> * 지정한 인코딩 타입 이외의 문자가 나타났을 때 <span style=\"color:red\">UnicodeEncodeError</span>를 발생 \n",
    "> * default 파라미터로 지정 됨  \n",
    "\n",
    "즉, snowman.encode(\"ascii\")는 snowman.encode(\"ascii\", \"strict\")와 같음 \n",
    "\n",
    "\n",
    "(2) \"ignore\"\n",
    "> 알 수 없는 문자는 인코딩하지 않겠다! 는 명령 \n",
    "\n",
    "(3) \"replace\"\n",
    "> 알 수 없는 문자를 ?로 대체 \n",
    "\n",
    "(4) \"backslashreplace\" \n",
    "> 유니코드 이스케이프<sup>unicode-escape</sup> 처럼 파이썬 유니코드 문자의 문자열을 만듬 <br/> \n",
    "> (안되면 되돌리기?) \n",
    "\n",
    "(5) \"xmlcharrefreplace\" \n",
    "> 유니코드 이스케이프 시퀀스(ex, \\u2603)를 출력할 수 있는 문자열로 만듬 "
   ]
  },
  {
   "cell_type": "markdown",
   "metadata": {},
   "source": [
    "IF) \"ignore\" 옵션으로 셋팅 "
   ]
  },
  {
   "cell_type": "code",
   "execution_count": 24,
   "metadata": {},
   "outputs": [
    {
     "data": {
      "text/plain": [
       "b''"
      ]
     },
     "execution_count": 24,
     "metadata": {},
     "output_type": "execute_result"
    }
   ],
   "source": [
    "snowman.encode(\"ascii\", \"ignore\")"
   ]
  },
  {
   "cell_type": "markdown",
   "metadata": {},
   "source": [
    "IF) \"replace\" 옵션으로 셋팅 "
   ]
  },
  {
   "cell_type": "code",
   "execution_count": 26,
   "metadata": {},
   "outputs": [
    {
     "data": {
      "text/plain": [
       "b'?'"
      ]
     },
     "execution_count": 26,
     "metadata": {},
     "output_type": "execute_result"
    }
   ],
   "source": [
    "snowman.encode(\"ascii\", \"replace\")"
   ]
  },
  {
   "cell_type": "markdown",
   "metadata": {},
   "source": [
    "IF) \"backslashreplace\" 옵션으로 셋팅"
   ]
  },
  {
   "cell_type": "code",
   "execution_count": 28,
   "metadata": {},
   "outputs": [
    {
     "data": {
      "text/plain": [
       "b'\\\\u2603'"
      ]
     },
     "execution_count": 28,
     "metadata": {},
     "output_type": "execute_result"
    }
   ],
   "source": [
    "snowman.encode(\"ascii\", \"backslashreplace\")  # 인코딩이 안되면 원래대로 되돌리기? "
   ]
  },
  {
   "cell_type": "markdown",
   "metadata": {},
   "source": [
    "IF) \"xmlcharrefreplace\" 옵션으로 셋팅 "
   ]
  },
  {
   "cell_type": "code",
   "execution_count": 32,
   "metadata": {},
   "outputs": [
    {
     "data": {
      "text/plain": [
       "b'&#9731;'"
      ]
     },
     "execution_count": 32,
     "metadata": {},
     "output_type": "execute_result"
    }
   ],
   "source": [
    "snowman.encode(\"ascii\", \"xmlcharrefreplace\")"
   ]
  },
  {
   "cell_type": "code",
   "execution_count": null,
   "metadata": {},
   "outputs": [],
   "source": []
  }
 ],
 "metadata": {
  "kernelspec": {
   "display_name": "Python 3",
   "language": "python",
   "name": "python3"
  },
  "language_info": {
   "codemirror_mode": {
    "name": "ipython",
    "version": 3
   },
   "file_extension": ".py",
   "mimetype": "text/x-python",
   "name": "python",
   "nbconvert_exporter": "python",
   "pygments_lexer": "ipython3",
   "version": "3.6.5"
  }
 },
 "nbformat": 4,
 "nbformat_minor": 2
}
