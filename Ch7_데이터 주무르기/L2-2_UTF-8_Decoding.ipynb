{
 "cells": [
  {
   "cell_type": "markdown",
   "metadata": {},
   "source": [
    "# UTF-8 디코딩 \n",
    "[UTF-8 인코딩과 디코딩](https://github.com/DoranLyong/Introducing_Python/blob/master/Ch7_%EB%8D%B0%EC%9D%B4%ED%84%B0%20%EC%A3%BC%EB%AC%B4%EB%A5%B4%EA%B8%B0/L2-1_UTF-8_Encoding.ipynb)"
   ]
  },
  {
   "cell_type": "markdown",
   "metadata": {},
   "source": [
    "### 바이트 문자열을 유니코드 문자열로 디코팅해보자(= 차원 복원) "
   ]
  },
  {
   "cell_type": "markdown",
   "metadata": {},
   "source": [
    "외부 소스<sup>(파일, DB, 웹사이트, 네트워크 API 등)</sup>에서 텍스트를 얻는다면, <br/> \n",
    "이런 텍스트는 얻을 때마다 __바이트 문자열__로 인코딩되어 있음(=차원 축소)"
   ]
  },
  {
   "cell_type": "markdown",
   "metadata": {},
   "source": [
    "이 소스에서 인코딩 과정을 거꾸로 수행하면 유니코드 문자열을 얻을 수 있음 "
   ]
  },
  {
   "cell_type": "markdown",
   "metadata": {},
   "source": [
    "![](./images/encode_decode.png)"
   ]
  },
  {
   "cell_type": "code",
   "execution_count": null,
   "metadata": {},
   "outputs": [],
   "source": []
  }
 ],
 "metadata": {
  "kernelspec": {
   "display_name": "Python 3",
   "language": "python",
   "name": "python3"
  },
  "language_info": {
   "codemirror_mode": {
    "name": "ipython",
    "version": 3
   },
   "file_extension": ".py",
   "mimetype": "text/x-python",
   "name": "python",
   "nbconvert_exporter": "python",
   "pygments_lexer": "ipython3",
   "version": "3.6.5"
  }
 },
 "nbformat": 4,
 "nbformat_minor": 2
}
