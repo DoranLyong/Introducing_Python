{
 "cells": [
  {
   "cell_type": "markdown",
   "metadata": {},
   "source": [
    "# UTF-8 디코딩 \n",
    "[UTF-8 인코딩과 디코딩](https://github.com/DoranLyong/Introducing_Python/blob/master/Ch7_%EB%8D%B0%EC%9D%B4%ED%84%B0%20%EC%A3%BC%EB%AC%B4%EB%A5%B4%EA%B8%B0/L2-1_UTF-8_Encoding.ipynb)"
   ]
  },
  {
   "cell_type": "markdown",
   "metadata": {},
   "source": [
    "### 바이트 문자열을 유니코드 문자열로 디코팅해보자(= 차원 복원) "
   ]
  },
  {
   "cell_type": "markdown",
   "metadata": {},
   "source": [
    "외부 소스<sup>(파일, DB, 웹사이트, 네트워크 API 등)</sup>에서 텍스트를 얻는다면, <br/> \n",
    "이런 텍스트는 얻을 때마다 __바이트 문자열__로 인코딩되어 있음(=차원 축소)"
   ]
  },
  {
   "cell_type": "markdown",
   "metadata": {},
   "source": [
    "이 소스에서 인코딩 과정을 거꾸로 수행하면 유니코드 문자열을 얻을 수 있음 "
   ]
  },
  {
   "cell_type": "markdown",
   "metadata": {},
   "source": [
    "![](./images/encode_decode.png)"
   ]
  },
  {
   "cell_type": "markdown",
   "metadata": {},
   "source": [
    "#### 문제는 '바이트 문자열'이 어떻게 인코딩되었는지 안알랴쥼 "
   ]
  },
  {
   "cell_type": "markdown",
   "metadata": {},
   "source": [
    "앞서 웹사이트에서 텍스트를 복사/붙여넣기했을 때 일어날 수 있는 위험 상황을 설명함[link](https://github.com/DoranLyong/Introducing_Python/blob/master/Ch7_%EB%8D%B0%EC%9D%B4%ED%84%B0%20%EC%A3%BC%EB%AC%B4%EB%A5%B4%EA%B8%B0/L2-1_UTF-8_Encoding.ipynb)\n",
    "> 웹 텍스트가  'Latin-1' 혹은 'Windows 1252' 로 인코딩 됐으면 __바이트 시퀀스__가 유효하지 않다는 에러 발생 "
   ]
  },
  {
   "cell_type": "markdown",
   "metadata": {},
   "source": [
    "__Eample__ 웹사이트 텍스트의 문자을 ASCII로 예상했는데, 다른 문자로 되어 있는 경우 "
   ]
  },
  {
   "cell_type": "markdown",
   "metadata": {},
   "source": [
    "(1) café 의 유니코드 문자열을 생성해보자 "
   ]
  },
  {
   "cell_type": "code",
   "execution_count": 3,
   "metadata": {},
   "outputs": [
    {
     "name": "stdout",
     "output_type": "stream",
     "text": [
      "café\n"
     ]
    },
    {
     "data": {
      "text/plain": [
       "str"
      ]
     },
     "execution_count": 3,
     "metadata": {},
     "output_type": "execute_result"
    }
   ],
   "source": [
    "place = \"caf\\u00e9\"\n",
    "print(place)\n",
    "type(place)"
   ]
  },
  {
   "cell_type": "markdown",
   "metadata": {},
   "source": [
    "(2) 이것을 UTF-8 형식의 place_bytes라는 바이트 변수로 인코딩 "
   ]
  },
  {
   "cell_type": "code",
   "execution_count": 6,
   "metadata": {},
   "outputs": [
    {
     "name": "stdout",
     "output_type": "stream",
     "text": [
      "b'caf\\xc3\\xa9'\n"
     ]
    },
    {
     "data": {
      "text/plain": [
       "bytes"
      ]
     },
     "execution_count": 6,
     "metadata": {},
     "output_type": "execute_result"
    }
   ],
   "source": [
    "place_bytes = place.encode(\"utf-8\")\n",
    "print( place_bytes )\n",
    "type( place_bytes )"
   ]
  },
  {
   "cell_type": "code",
   "execution_count": 7,
   "metadata": {},
   "outputs": [
    {
     "data": {
      "text/plain": [
       "5"
      ]
     },
     "execution_count": 7,
     "metadata": {},
     "output_type": "execute_result"
    }
   ],
   "source": [
    "len(place_bytes)"
   ]
  },
  {
   "cell_type": "markdown",
   "metadata": {},
   "source": [
    "place_bytes는 5바이트로 되어 있음 \n",
    "> * 첫 3바이트는 UTF-8 과 똑같이 표현되는 ASCII문자 - ' caf ' \n",
    "> * 마지막 2바이트에서 'é'를 인코딩  "
   ]
  },
  {
   "cell_type": "markdown",
   "metadata": {},
   "source": [
    "(3) 바이트 문자열을 유니코드 문자열로 디코딩\n",
    "* 역변환 (차원 복원)"
   ]
  },
  {
   "cell_type": "code",
   "execution_count": 10,
   "metadata": {},
   "outputs": [
    {
     "name": "stdout",
     "output_type": "stream",
     "text": [
      "café\n"
     ]
    }
   ],
   "source": [
    "place2 = place_bytes.decode(\"utf-8\")\n",
    "print(place2)"
   ]
  },
  {
   "cell_type": "markdown",
   "metadata": {},
   "source": [
    "### 지금까지 'café' 를 UTF-8로 인코딩한 후, 다시 UTF-8로 디코딩했다. "
   ]
  },
  {
   "cell_type": "markdown",
   "metadata": {},
   "source": [
    "<span style=\"color:red\">만약</span>, UTF-8로 인코딩된 'café'를 다른 방식으로 디코딩하면 어떨까? "
   ]
  },
  {
   "cell_type": "code",
   "execution_count": 12,
   "metadata": {},
   "outputs": [
    {
     "ename": "UnicodeDecodeError",
     "evalue": "'ascii' codec can't decode byte 0xc3 in position 3: ordinal not in range(128)",
     "output_type": "error",
     "traceback": [
      "\u001b[1;31m---------------------------------------------------------------------------\u001b[0m",
      "\u001b[1;31mUnicodeDecodeError\u001b[0m                        Traceback (most recent call last)",
      "\u001b[1;32m<ipython-input-12-afd7a503d5f5>\u001b[0m in \u001b[0;36m<module>\u001b[1;34m()\u001b[0m\n\u001b[1;32m----> 1\u001b[1;33m \u001b[0mplace3\u001b[0m \u001b[1;33m=\u001b[0m \u001b[0mplace_bytes\u001b[0m\u001b[1;33m.\u001b[0m\u001b[0mdecode\u001b[0m\u001b[1;33m(\u001b[0m\u001b[1;34m\"ascii\"\u001b[0m\u001b[1;33m)\u001b[0m\u001b[1;33m\u001b[0m\u001b[0m\n\u001b[0m",
      "\u001b[1;31mUnicodeDecodeError\u001b[0m: 'ascii' codec can't decode byte 0xc3 in position 3: ordinal not in range(128)"
     ]
    }
   ],
   "source": [
    "place3 = place_bytes.decode(\"ascii\")"
   ]
  },
  {
   "cell_type": "markdown",
   "metadata": {},
   "source": [
    "ASCII 디코더는 예외(=에러)를 던짐. \n",
    "* 0xc3 바이트 값이 ASCII에 유효하지 않기 때문 "
   ]
  },
  {
   "cell_type": "markdown",
   "metadata": {},
   "source": [
    "> ASCII는 128<sup>(16진수 80)</sup>에서 255<sup>(16진수 FF)</sup> 사이에 있는 일부 8비트 문자 셋의 인코딩에 유효하지만, UTF-8과는 다름 "
   ]
  },
  {
   "cell_type": "markdown",
   "metadata": {},
   "source": [
    "***"
   ]
  },
  {
   "cell_type": "code",
   "execution_count": 13,
   "metadata": {},
   "outputs": [
    {
     "name": "stdout",
     "output_type": "stream",
     "text": [
      "cafÃ©\n"
     ]
    }
   ],
   "source": [
    "place4 = place_bytes.decode(\"latin-1\")\n",
    "print(place4)"
   ]
  },
  {
   "cell_type": "code",
   "execution_count": 15,
   "metadata": {},
   "outputs": [
    {
     "name": "stdout",
     "output_type": "stream",
     "text": [
      "cafÃ©\n"
     ]
    }
   ],
   "source": [
    "place5 = place_bytes.decode(\"windows-1252\")\n",
    "print(place5)"
   ]
  },
  {
   "cell_type": "markdown",
   "metadata": {},
   "source": [
    "헐... 예는또 왜이래 "
   ]
  },
  {
   "cell_type": "markdown",
   "metadata": {},
   "source": [
    "## 이 예제의 교훈은 가능하면 UTF-8을 사용하라는 것\n",
    "> UTF-8은 모든 유니코드 문자를 표현할 수 있고, 어디에서나 지원되기 때문 \n",
    "\n",
    "그리고 빠르게 인코딩-디코딩을 수행한다. "
   ]
  },
  {
   "cell_type": "markdown",
   "metadata": {},
   "source": [
    "### [Reference]\n",
    "* [유니코드 HOWTO](https://docs.python.org/3/howto/unicode.html)\n",
    "* [실용적인 Pragmatic 유니코드](https://nedbatchelder.com/text/unipain.html)\n",
    "* [유니코드와 문자셋에 대한 기고 글](https://www.joelonsoftware.com/2003/10/08/the-absolute-minimum-every-software-developer-absolutely-positively-must-know-about-unicode-and-character-sets-no-excuses/)"
   ]
  },
  {
   "cell_type": "code",
   "execution_count": null,
   "metadata": {},
   "outputs": [],
   "source": []
  }
 ],
 "metadata": {
  "kernelspec": {
   "display_name": "Python 3",
   "language": "python",
   "name": "python3"
  },
  "language_info": {
   "codemirror_mode": {
    "name": "ipython",
    "version": 3
   },
   "file_extension": ".py",
   "mimetype": "text/x-python",
   "name": "python",
   "nbconvert_exporter": "python",
   "pygments_lexer": "ipython3",
   "version": "3.6.5"
  }
 },
 "nbformat": 4,
 "nbformat_minor": 2
}
