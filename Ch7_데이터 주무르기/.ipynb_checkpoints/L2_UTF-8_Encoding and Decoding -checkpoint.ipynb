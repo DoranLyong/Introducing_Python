{
 "cells": [
  {
   "cell_type": "markdown",
   "metadata": {},
   "source": [
    "# UTF-8 인코딩 and 디코딩 "
   ]
  },
  {
   "cell_type": "markdown",
   "metadata": {},
   "source": [
    "### ※ encoding , decoding 이미지 \n",
    "차원 변화라고 생각하자 \n",
    "* encoding: 차원 축소 \n",
    "* decoding: 차원 복원"
   ]
  },
  {
   "cell_type": "markdown",
   "metadata": {},
   "source": [
    "파이썬 내부적으로는 일반 문자열을 처리할 때, 각 유니코드 문자를 저장하는 방법에 대해 걱정 안 해도 됨 \n",
    "> __제일 문제는__ <span style=\"color:blue\">외부 데이터<sup>(=파이썬 이외의 형식)</sup>를 교환하고 저장할 때</span> 전처리 과정이 필요함 \n",
    " * 문자열<sup>string</sup> → byte로 __인코딩__  (사람이 못알아 보는 저차원으로)\n",
    " * byte → 문자열로 __디코딩__ (사람이 알아보는 고차원으로)"
   ]
  },
  {
   "cell_type": "markdown",
   "metadata": {},
   "source": [
    "유니코드에 64,000 개 미만의 문자가 있다면, \n",
    "> 2 byte 만으로 유니코드 문자의 식별자를 저장할 수 있음 "
   ]
  },
  {
   "cell_type": "markdown",
   "metadata": {},
   "source": [
    "2 byte ⇒ $2^{16}$ 가지 "
   ]
  },
  {
   "cell_type": "code",
   "execution_count": 2,
   "metadata": {},
   "outputs": [
    {
     "data": {
      "text/plain": [
       "65536"
      ]
     },
     "execution_count": 2,
     "metadata": {},
     "output_type": "execute_result"
    }
   ],
   "source": [
    "2**16"
   ]
  },
  {
   "cell_type": "markdown",
   "metadata": {},
   "source": [
    "__But__, 문자가 이보다 더 많음 <br/>\n",
    "\n",
    "3~4 byte의 식별자를 인코딩할 수 있지만, \n",
    "> 텍스트 문자열에 대한 메모리 및 디스크 저장 공간이 3~4배 증가됨 "
   ]
  },
  {
   "cell_type": "markdown",
   "metadata": {},
   "source": [
    "이 문제를 해결하기 위해 나온 것이 <span style=\"color:blue\">'__UTF-8__' 동적 인코딩 형식</span>\n",
    "> 유니코드 한 문자당 1 ~ 4 byte 사용 \n",
    " * 1 byte: ASCII \n",
    " * 2 byte: 키릴<sup>Cyrillic</sup> 문자를 제외한 대부분의 파생된 라틴어 \n",
    " * 3 byte: 기본 다국어 평면의 나머지 \n",
    " * 4 byte: 아시아 언어 및 기호를 포함한 나머지 "
   ]
  },
  {
   "cell_type": "markdown",
   "metadata": {},
   "source": [
    "### ※ UTF-8  인코딩 특징:\n",
    "> (1) Python, Linux, HTML의 표준 텍스트<sup>text</sup> 인코딩<sup>=('string' to 'byte')</sup> <br/>\n",
    "> (2) 빠름 / 안정적인 동작  \n",
    "   * 다른 인코딩 방식을 쓰는 것보다 인생낭비가 없음 "
   ]
  },
  {
   "cell_type": "markdown",
   "metadata": {},
   "source": [
    "__<span style=\"color:red\">NOTE</span>__ <br/>\n",
    "* 웹 페이지(web page)같은 다른 소스에서 복사/붙여넣기로 문자열을 가져와 작성하는 경우 \n",
    "> 그 소스가 __UTF-8__ 형식으로 인코딩됐는지 꼭 확인 <br/>\n",
    "\n",
    "보통 문자열을 복사할 때 'Latin-1' 혹은 '[Windows 1252](https://github.com/DoranLyong/Introducing_Python/blob/master/Ch7_%EB%8D%B0%EC%9D%B4%ED%84%B0%20%EC%A3%BC%EB%AC%B4%EB%A5%B4%EA%B8%B0/L1_handling_data_to%20various%20data%20type.ipynb)' 형식으로 인코딩된 텍스트를 쉽게 볼 수 있음. <br/>\n",
    " * 요놈들은 나중에 __바이트 시퀀스__<sup>byte sequence</sup> 가 유효하지 않다는 예외를 발생시킴 <br/>\n",
    " \n",
    " (ex) 리눅스 환경에서 python 코드를 실행시키려했을 때, 이런 인코딩 문제를 만났다. <br/>\n",
    "      코드 내부에는 한글 주석이 있었는데 이를 인터프리터가 받아들이지 못해서였다. \n",
    "      * 그래서 코드 맨 상위에 인코딩 방식을 명시해주었다. "
   ]
  },
  {
   "cell_type": "markdown",
   "metadata": {},
   "source": [
    "***"
   ]
  },
  {
   "cell_type": "code",
   "execution_count": null,
   "metadata": {},
   "outputs": [],
   "source": []
  }
 ],
 "metadata": {
  "kernelspec": {
   "display_name": "Python 3",
   "language": "python",
   "name": "python3"
  },
  "language_info": {
   "codemirror_mode": {
    "name": "ipython",
    "version": 3
   },
   "file_extension": ".py",
   "mimetype": "text/x-python",
   "name": "python",
   "nbconvert_exporter": "python",
   "pygments_lexer": "ipython3",
   "version": "3.6.5"
  }
 },
 "nbformat": 4,
 "nbformat_minor": 2
}
