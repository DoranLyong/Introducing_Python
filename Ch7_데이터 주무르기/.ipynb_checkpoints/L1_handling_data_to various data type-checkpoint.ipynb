{
 "cells": [
  {
   "cell_type": "markdown",
   "metadata": {},
   "source": [
    "# 데이터 주무르기 "
   ]
  },
  {
   "cell_type": "markdown",
   "metadata": {},
   "source": [
    "Python은 제대로 다루려면 다양한 데이터를 자유자제로 다룰 줄 알아야 한다. <br/>\n",
    "> 이번 장에서는 데이터에 대한 기술<sup>techniqu</sup>을 살펴봄"
   ]
  },
  {
   "cell_type": "markdown",
   "metadata": {},
   "source": [
    "파이썬의 내장된 데이터 타입은 다음과 같음 \n",
    "> 문자열(string)\n",
    "* 텍스트 데이터<sup>text data</sup>에 사용되는 __유니코드__<sup>Unicode</sup> 문자의 시퀀스\n",
    "<br/>\n",
    "\n",
    "> 바이트와 바이트 배열(byte and byte-array)\n",
    "* 이진 데이터<sup>binary data</sup>에 사용되는 8비트 정수의 시퀀스 ( 0000 1111 )"
   ]
  },
  {
   "cell_type": "markdown",
   "metadata": {},
   "source": [
    "## 1. 텍스트 문자열 \n",
    "텍스트 데이터는 사람이 읽을 수 있는 코드이기 때문에 가장 친숙한 데이터 타입임 \n",
    "* ASCII\n",
    "* Unicode"
   ]
  },
  {
   "cell_type": "markdown",
   "metadata": {},
   "source": [
    "### ASCII "
   ]
  },
  {
   "cell_type": "markdown",
   "metadata": {},
   "source": [
    "유니코드 이전에는 가장 평범하고 오래된 아스키(ASCII) 문자를 사용했음 \n",
    "> 1960년대에 정의됨 \n",
    "\n",
    "60년대 당시의 냉장고만한 컴퓨터는 단순한 계산을 잘 수행했음. <br/>\n",
    "\n",
    "왜냐면,\n",
    "* 컴퓨터의 기본 저장 단위는 __바이트__<sup>byte</sup>  \n",
    "* 1 byte = 8 bit  &rarr;  $2^{8}=256$ 개의 고유한 값을 저장할 수 있음 "
   ]
  },
  {
   "cell_type": "markdown",
   "metadata": {},
   "source": [
    "하지만 ASCII 코드는 첫자리를 식별자로 남겨두고 7 bit (128개의 고유한 값)만 사용한다. \n",
    "> * 26개의 대/소문자 \n",
    "> * 10개의 숫자  \n",
    "> * 구두 문자<sup>punctuation character</sup> \n",
    "> * 공백 문자 \n",
    "> * 비인쇄 제어 코드<sup>nonprinting control code</sup>\n",
    "\n",
    "이러한 종류의 128개 값을 저장함 "
   ]
  },
  {
   "cell_type": "markdown",
   "metadata": {},
   "source": [
    "※ 기타 8비트를 사용하는 문자 코드 \n",
    "* Latin-1 혹은 ISO 8859-1\n",
    "* Windows code page 1252"
   ]
  },
  {
   "cell_type": "markdown",
   "metadata": {},
   "source": [
    "### 유니코드(Unicode)"
   ]
  },
  {
   "cell_type": "markdown",
   "metadata": {},
   "source": [
    "세상의 모든 문자를 표현하려면 적어도 128가지로는 부족하다. <br/>\n",
    "그래서, 세계인들이 모여 세계 언어의 문자를 정의하기 위한 국제 표준 코드를 만들었다. <br/>\n",
    "\n",
    "그것이 __유니코드__\n",
    "> * 유니코드는 수학 및 기타 분야의 기호들도 포함됨 \n",
    "> * 플랫폼, 프로그램, 언어에 상관없이 문자마다의 고유한 코드값을 제공함 \n",
    "\n",
    "[유니코드 코드 차트](http://www.unicode.org/charts/)"
   ]
  },
  {
   "cell_type": "markdown",
   "metadata": {},
   "source": [
    "유니코드 문자 각각에는 고유한 이름과 식별 번호가 있음 \n",
    "> * 문자들은 __유니코드 평면__<sup>plane</sup>이라고 하는 8bit 세트로 분할됨 \n",
    "\n",
    "첫 번째 256(=$2^{8}$) 평면은 __기본 다국어 평면__   <br/>\n",
    "\n",
    "[유니코드 평면](https://ko.wikipedia.org/wiki/%EC%9C%A0%EB%8B%88%EC%BD%94%EB%93%9C_%ED%8F%89%EB%A9%B4)"
   ]
  },
  {
   "cell_type": "markdown",
   "metadata": {},
   "source": [
    "# 2. Python3 유니코드 문자열"
   ]
  },
  {
   "cell_type": "markdown",
   "metadata": {},
   "source": [
    "파이썬3 문자열은 바이트 배열이 아닌 __유니코드 문자열__임. \n",
    "> 파이썬2로부터의 가장 큰 변화임 \n",
    "\n",
    "파이썬3은 일반적인 [바이트 문자열](https://wikidocs.net/10501)과 __유니코드 문자__를 구별한다. "
   ]
  },
  {
   "cell_type": "markdown",
   "metadata": {},
   "source": [
    "\n"
   ]
  },
  {
   "cell_type": "markdown",
   "metadata": {},
   "source": [
    "그래서, <br/>\n",
    "<span style=\"color:blue\">유니코드 식별자<sup>ID</sup>(=문자에 대한 이름<sup>name</sup>)을 안다면</span>, 이 문자를 파이썬 문자열에 사용할 수 있음 "
   ]
  },
  {
   "cell_type": "markdown",
   "metadata": {},
   "source": [
    "* __4자리__ 16진수와 그 앞에 \\\\u 는 유니코드의 기본 평면 256(=$2^{8}$)개 중 하나의 문자를 지정함.\n",
    "> * 첫 번째 두 숫자는 평면 번호 - ( 00 ~ FF )\n",
    "> * 다음 두 숫자는 평면에 있는 문자의 인덱스 \n",
    "\n",
    "ex) FF10  ⇒  FF번째 평면의 10번째 문자를 가져와 "
   ]
  },
  {
   "cell_type": "markdown",
   "metadata": {},
   "source": [
    "* 높은 평면의 문자일수록 비트수가 더 필요함 \n",
    "> * 이에 대한 파이썬의 이스케이프 시퀀스<sup>escape sequence</sup>는 \\\\U\n",
    "> * __8자리__의 16진수를 사용 (bit 수가 늘었으니까 16진수로 컴팩트하게 표현)\n",
    "> * 숫자에 남는 공간이 있으면 왼쪽을 0으로 채움 "
   ]
  },
  {
   "cell_type": "markdown",
   "metadata": {},
   "source": [
    "* 모든 문자는 표준 이름 \\\\N{name}으로 지정할 수 있음 \n",
    "> * [유니코드 문자 이름 인덱스<sup>The Unicode Character Name Index</sup>](http://www.unicode.org/charts/charindex.html)페이지에서 표준 이름 리스트를 참조 "
   ]
  },
  {
   "cell_type": "code",
   "execution_count": null,
   "metadata": {
    "collapsed": true
   },
   "outputs": [],
   "source": []
  }
 ],
 "metadata": {
  "kernelspec": {
   "display_name": "Python 3",
   "language": "python",
   "name": "python3"
  },
  "language_info": {
   "codemirror_mode": {
    "name": "ipython",
    "version": 3
   },
   "file_extension": ".py",
   "mimetype": "text/x-python",
   "name": "python",
   "nbconvert_exporter": "python",
   "pygments_lexer": "ipython3",
   "version": "3.6.3"
  }
 },
 "nbformat": 4,
 "nbformat_minor": 2
}
