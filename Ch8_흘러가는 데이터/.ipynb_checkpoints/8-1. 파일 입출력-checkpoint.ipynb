{
 "cells": [
  {
   "cell_type": "markdown",
   "metadata": {},
   "source": [
    "# 8. 흘러가는 데이터\n",
    "(Introduction Python, 한빛미디어, p.231) <br/>\n",
    "(Python for Beginner, 한빛아카데미, p.330) "
   ]
  },
  {
   "cell_type": "markdown",
   "metadata": {},
   "source": [
    "> ### \"데이터를 이해하기 전에 이론화하는 것은 큰 실수다\" <br/>\n",
    ">                           - 의사/소설가, Arthur Conan Doyle"
   ]
  },
  {
   "cell_type": "markdown",
   "metadata": {},
   "source": [
    "프로그램을 활성화 시키는 명령을 내린다 → HDD의 소스 코드가 활성화됨 → 활성화된 코드는 데이터를 RAM에 로드<sup>load</sup>(=저장)함 → 아주 빠르게 CPU로 전달하면서 코드 처리 "
   ]
  },
  {
   "cell_type": "markdown",
   "metadata": {},
   "source": [
    "### 디스크 드라이브(HDD) 특징 \n",
    "* 느림, 쌈, 비휘발성<sup>nonvolatile</sup>\n",
    "\n",
    "\n",
    "### RAM의 특징\n",
    "* 빠름, 비쌈, 휘발성<sup>volatile</sup>"
   ]
  },
  {
   "cell_type": "markdown",
   "metadata": {},
   "source": [
    "<b>[학습 목표]</b> <br/>\n",
    "다음 세 가지에 대한 특징을 살펴봄 <br/>\n",
    "\n",
    "(1) 일반 파일  <br/>\n",
    "(2) 구조화된 파일 <br/>\n",
    "(3) 데이터베이스(DB) 같은 특수한 목적으로 최적화된 데이터 저장소(=storage)"
   ]
  },
  {
   "cell_type": "markdown",
   "metadata": {},
   "source": [
    " "
   ]
  },
  {
   "cell_type": "markdown",
   "metadata": {},
   "source": [
    "# 8.1 파일 입출력 "
   ]
  },
  {
   "cell_type": "markdown",
   "metadata": {},
   "source": []
  }
 ],
 "metadata": {
  "kernelspec": {
   "display_name": "Python 3",
   "language": "python",
   "name": "python3"
  },
  "language_info": {
   "codemirror_mode": {
    "name": "ipython",
    "version": 3
   },
   "file_extension": ".py",
   "mimetype": "text/x-python",
   "name": "python",
   "nbconvert_exporter": "python",
   "pygments_lexer": "ipython3",
   "version": "3.6.5"
  }
 },
 "nbformat": 4,
 "nbformat_minor": 2
}
