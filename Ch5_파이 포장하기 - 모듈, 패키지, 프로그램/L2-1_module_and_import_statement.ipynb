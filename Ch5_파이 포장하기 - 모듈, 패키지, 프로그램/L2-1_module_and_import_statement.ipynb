{
 "cells": [
  {
   "cell_type": "markdown",
   "metadata": {},
   "source": [
    "# 모듈과 import 문 "
   ]
  },
  {
   "cell_type": "markdown",
   "metadata": {},
   "source": [
    "아주 큰 프로그램은 정리르 잘 하기 위해서 '모듈' 단위로 작성돼 관리된다 <br/> \n",
    "> 여러 개의 코드 파일로 쪼개서 관리함 <br/>\n",
    "\n",
    "그래서 '__모듈__' 이라는 단어에 쫄 것 없다 \n",
    "> 그냥 <span style=\"color:blue\">코드 파일</span>임 "
   ]
  },
  {
   "cell_type": "markdown",
   "metadata": {},
   "source": [
    "### 가독성 있는 글 쓰기 \n",
    "글을 가독성 있게 쓰려면 구조를 잘 만들어야한다. <br/>\n",
    "밑 바닥에서 위로 차곡차곡 쌓아가는 계층구조<sup>hierarchy</sup>면 좋음  \n",
    "> 단어 &rarr; 문장  &rarr; 단락  &rarr; 장<sup>chapter</sup>"
   ]
  },
  {
   "cell_type": "markdown",
   "metadata": {},
   "source": [
    "코드도 이와 비슷하게 __상향식<sup>bottom-up</sup> 구조__로 작성함\n",
    "> 데이터 타입<sup>data type</sup> &rarr; 선언문<sup>statement</sup> &rarr; 함수<sup>function</sup> &rarr; 모듈<sup>module</sup>"
   ]
  },
  {
   "cell_type": "markdown",
   "metadata": {},
   "source": [
    "\n",
    "\n"
   ]
  },
  {
   "cell_type": "markdown",
   "metadata": {},
   "source": [
    "전공 책을 읽더라도 각 챕터별로 중심 내용이 있고, 챕터간에 내용을 참고해서 개념을 확장해 나간다 \n",
    "> 메인 코드를 작성할 때도 다른 모듈<sup>(=코드 파일, 챕터)</sup>을 참조해서 기능을 확장함 "
   ]
  },
  {
   "cell_type": "markdown",
   "metadata": {},
   "source": [
    "## 1. 모듈 임포트하기 \n",
    "import 문을 사용하면 다른 모듈의 코드를 참조할 수 있음 <br/>\n",
    "\n",
    "(i.e) 다른 모듈의 코드와 변수를 가져다 쓸 수 있게됨 "
   ]
  },
  {
   "cell_type": "markdown",
   "metadata": {},
   "source": [
    "### 사용방법 "
   ]
  },
  {
   "cell_type": "markdown",
   "metadata": {},
   "source": [
    "모듈은 .py 확장자가 없는 __파이썬 파일의 이름__임 \n",
    "> 당연히 코드 파일에는 .py 확장자가 붙어 있음 <br/>\n",
    "> 이 코드를 모듈로서 불러올 때는 확장자를 때버림 "
   ]
  },
  {
   "cell_type": "markdown",
   "metadata": {},
   "source": [
    "__main_code.py__"
   ]
  },
  {
   "cell_type": "code",
   "execution_count": 1,
   "metadata": {},
   "outputs": [
    {
     "name": "stdout",
     "output_type": "stream",
     "text": [
      "Today's weather:  fog\n"
     ]
    }
   ],
   "source": [
    "import sys, os \n",
    "sys.path.append( os.pardir )          # 부모디렉토리 경로 추가 \n",
    "                                      # 같은 부모디렉토리 안의 폴더와 파일을 보기 위함 \n",
    "from module_lists import report \n",
    "\n",
    "description = report.get_description()\n",
    "\n",
    "print(\"Today's weather: \", description)"
   ]
  },
  {
   "cell_type": "markdown",
   "metadata": {},
   "source": [
    "module_lists 디렉토리로 부터 report.py 코드를 모듈로써 임포트했다 \n",
    "> 이제 report 모듈에 접근해 get_description() 함수를 메인 코드블럭(\\__main\\__)에서도 실행할 수 있음 "
   ]
  },
  {
   "cell_type": "markdown",
   "metadata": {},
   "source": [
    "__./module_lists/report.py 코드의 내용__ \n",
    "\n",
    "~~~ python \n",
    "def get_description():  # 바로 아래에 docstring이 있음\"\n",
    "    \"\"\"Return random weather, just like the pros\"\"\"\n",
    "\n",
    "    from random import choice\n",
    "    possibilities = [\"rain\", \"snow\", \"sleet\", \"fog\", \"sun\", \"who knows\"]\n",
    "\n",
    "    return choice(possibilities)\n",
    "~~~"
   ]
  },
  {
   "cell_type": "markdown",
   "metadata": {},
   "source": [
    "### [설명] \n",
    "* main_code.py 에서 report 모듈을 임포트<sup>import</sup>함 \n",
    "* 모듈 파일 repory.py의 get_description() 함수에서 파이썬 표준 random 모듈의 choice 함수를 임포트함 <br/>"
   ]
  },
  {
   "cell_type": "markdown",
   "metadata": {},
   "source": [
    "__임포트한 모듈 사용법__ <br/>\n",
    "* main_code.py에서 <span style=\"color:green\">import</span> report를 호출하고  report.get_description()을 실행 \n",
    "> <모듈\\_이름>.<참조할\\_함수>() <br/>\n",
    "\n",
    "* 그러면 report.py 파일에 접근해 get_description() 함수에서 <span style=\"color:green\">from</span> random <span style=\"color:green\">import </span> choice 를 호출하고, choice(possibilities)를 실행 "
   ]
  },
  {
   "cell_type": "markdown",
   "metadata": {},
   "source": [
    "\n"
   ]
  },
  {
   "cell_type": "markdown",
   "metadata": {},
   "source": [
    "import 문 이후에, report.py에 있는 모든 객체는 이름 앞에 report . 을 붙여 메인 프로그램(\\__main\\__)에서 사용할 수 있음 \n",
    "> report .  : \n",
    "* report 모듈 밑에(.) (= report 모듈에 접근해서)"
   ]
  },
  {
   "cell_type": "markdown",
   "metadata": {},
   "source": [
    "이러한 방식으로 임포트한 모듈 내부의 함수나 변수에 접근하는 이유가 있음 \n",
    "> 네이밍 충돌 방지 <br/>\n",
    "\n",
    "모듈 이름으로 내용을 한정하고<sup>(=namespace)</sup> 정리함  \n"
   ]
  },
  {
   "cell_type": "markdown",
   "metadata": {},
   "source": [
    "### 네이밍 심화 \n",
    "이런 관점에서 봤을 때 __./module_lists/report.py __ 코드를 다시 작성할 수 있음 <br/>\n",
    "기존에서는 random 모듈에서 choice() 함수만 임포트했기 때문에 <span style=\"color:red\">네이밍을 명시할 필요가 없었음</span>\n",
    "\n",
    "~~~ python \n",
    "def get_description():\n",
    "    import random \n",
    "    possibilities = [\"rain\", \"snow\", \"sleet\", \"fog\", \"sun\", \"who knows\"]\n",
    "    \n",
    "    return random.choice(possibilities)\n",
    "~~~\n"
   ]
  },
  {
   "cell_type": "markdown",
   "metadata": {},
   "source": [
    "이번 경우에는 random 모듈의 모든 내용을 임포트 했기 때문에 네이밍을 명시해야함 "
   ]
  },
  {
   "cell_type": "markdown",
   "metadata": {},
   "source": [
    "\n",
    "\n"
   ]
  },
  {
   "cell_type": "markdown",
   "metadata": {},
   "source": [
    "## 2. 모듈 임포트 위치 "
   ]
  },
  {
   "cell_type": "markdown",
   "metadata": {},
   "source": [
    "__./module_lists/report.py __ 코드의 경우 random 모듈을 함수 호출이 있을 때에 임포트 한다 \n",
    "> 즉, 함수가 종료되면 함수와 함께 임포트된 모듈이 소멸된다 <br/>\n"
   ]
  },
  {
   "cell_type": "markdown",
   "metadata": {},
   "source": [
    "\n",
    "임포트된 코드가 여러 장소에서 쓰려면 함수 밖으로 빼내야 함 \n",
    "\n",
    "~~~ python \n",
    "import random \n",
    "\n",
    "def get_description():\n",
    "    possibilities = [\"rain\", \"snow\", \"sleet\", \"fog\", \"sun\", \"who knows\"]\n",
    "    \n",
    "    return random.choice(possibilities)\n",
    "~~~    "
   ]
  },
  {
   "cell_type": "code",
   "execution_count": null,
   "metadata": {
    "collapsed": true
   },
   "outputs": [],
   "source": []
  }
 ],
 "metadata": {
  "kernelspec": {
   "display_name": "Python 3",
   "language": "python",
   "name": "python3"
  },
  "language_info": {
   "codemirror_mode": {
    "name": "ipython",
    "version": 3
   },
   "file_extension": ".py",
   "mimetype": "text/x-python",
   "name": "python",
   "nbconvert_exporter": "python",
   "pygments_lexer": "ipython3",
   "version": "3.6.3"
  }
 },
 "nbformat": 4,
 "nbformat_minor": 2
}
