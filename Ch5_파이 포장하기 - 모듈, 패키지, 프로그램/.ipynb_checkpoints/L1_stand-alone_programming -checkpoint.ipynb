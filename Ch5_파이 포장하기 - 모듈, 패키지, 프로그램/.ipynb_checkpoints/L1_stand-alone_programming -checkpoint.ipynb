{
 "cells": [
  {
   "cell_type": "markdown",
   "metadata": {},
   "source": [
    "#### ch1 ~ 4 까지 학습은 상향식<sup>bottom-up</sup> 접근방법 \n",
    "* data type → data structure → code block structure  <br/>"
   ]
  },
  {
   "cell_type": "markdown",
   "metadata": {},
   "source": [
    "\n",
    "지금 부터는 현실적이고 큰 프로그램을 작성하는 방법을 배움 "
   ]
  },
  {
   "cell_type": "markdown",
   "metadata": {},
   "source": [
    "# 1. 스탠드얼론 프로그램(Stand-alone program, 자립형 프로그램)\n",
    "[stand-alone](https://terms.naver.com/entry.nhn?docId=69632&cid=43667&categoryId=43667)\n",
    "> 다른 장비의 도움 없이도 그자체로 완비된 장치 "
   ]
  },
  {
   "cell_type": "markdown",
   "metadata": {},
   "source": [
    "파이썬 코드를 작성하고 실행하는 방법은 크게 두가지다 <br/>\n",
    "<br/>\n",
    "(1) 명령형 인터프리터<sup>command line interpreter(CLI) </sup>로 작성하고 실행하기 <br/>\n",
    "* \\>>>\n",
    "\n",
    "(2) 코드 파일을 생성해서 코드를 작성하고 실행하기 \n",
    "*  test1.py "
   ]
  },
  {
   "cell_type": "markdown",
   "metadata": {},
   "source": [
    "큰 프로그램을 작성하려면 __스텐드얼론 방식__으로 프로그램을 만들어야함\n",
    "> .py 파일을 생성하고 코딩해야 하는거지 "
   ]
  },
  {
   "cell_type": "markdown",
   "metadata": {},
   "source": [
    "# 2. 커맨드 라인 인자 (command line arguments)\n",
    "컴퓨터에 test2.py 파일을 생성하고, 다음 두 줄의 코드를 입력한다 "
   ]
  },
  {
   "cell_type": "markdown",
   "metadata": {},
   "source": [
    "~~~ python \n",
    "import sys \n",
    "print(\"Program arguments: \", sys.argv)\n",
    "~~~"
   ]
  },
  {
   "cell_type": "markdown",
   "metadata": {},
   "source": [
    "__sys.argv__ 인자는 코드를 실행할 때 CLI로 부터 값을 읽어올 수 있도록 도와준다 "
   ]
  },
  {
   "cell_type": "markdown",
   "metadata": {},
   "source": [
    "![](./images/fig1_argv.jpg)"
   ]
  },
  {
   "cell_type": "markdown",
   "metadata": {},
   "source": [
    "보아하니 첫번 째 요소에는 실행 파일의 이름이 저장된다 "
   ]
  },
  {
   "cell_type": "code",
   "execution_count": null,
   "metadata": {
    "collapsed": true
   },
   "outputs": [],
   "source": []
  }
 ],
 "metadata": {
  "kernelspec": {
   "display_name": "Python 3",
   "language": "python",
   "name": "python3"
  },
  "language_info": {
   "codemirror_mode": {
    "name": "ipython",
    "version": 3
   },
   "file_extension": ".py",
   "mimetype": "text/x-python",
   "name": "python",
   "nbconvert_exporter": "python",
   "pygments_lexer": "ipython3",
   "version": "3.6.5"
  }
 },
 "nbformat": 4,
 "nbformat_minor": 2
}
