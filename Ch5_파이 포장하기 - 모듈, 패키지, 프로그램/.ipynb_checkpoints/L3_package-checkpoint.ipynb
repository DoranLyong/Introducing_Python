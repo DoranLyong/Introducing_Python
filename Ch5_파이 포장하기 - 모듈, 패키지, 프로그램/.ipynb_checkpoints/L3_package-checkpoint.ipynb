{
 "cells": [
  {
   "cell_type": "markdown",
   "metadata": {},
   "source": [
    "# 패키지 (package)"
   ]
  },
  {
   "cell_type": "markdown",
   "metadata": {},
   "source": [
    "(p. 158)"
   ]
  },
  {
   "cell_type": "markdown",
   "metadata": {},
   "source": [
    "__[계층 구조 정리]__ <br/>\n",
    "line-by-line 코드 &rarr; 함수 &rarr; stand-alone 프로그램 &rarr; 같은 부모 디렉토리의 여러 모듈 \n"
   ]
  },
  {
   "cell_type": "markdown",
   "metadata": {},
   "source": [
    "\n"
   ]
  },
  {
   "cell_type": "markdown",
   "metadata": {},
   "source": [
    "파이썬 애플리케이션을 좀 더 확장하기 위해 모듈을 __패키지__<sup>package</sup>라는 <span style=\"color:blue\">파일 계층구조</span>로 구성함 \n",
    "> 이제는 파일 시스템에 대한 이해가 필요함"
   ]
  },
  {
   "cell_type": "markdown",
   "metadata": {},
   "source": [
    "__Example__<br/>\n",
    "한 번은 다음날 날씨, 또 한 번은 다음 주 날씨와 같이 다른 타입의 날씨 정보가 필요하다고 하자. <br>"
   ]
  },
  {
   "cell_type": "markdown",
   "metadata": {},
   "source": [
    "[Solution_example] <br/>\n",
    "* module_lists 디렉토리를 만들 고, 그 안에 daily.py와 weekly.py라는 두개의 모듈을 생성 \n",
    "<br/>\n",
    "* 각 모듈은 forecast() 함수를 가짐 \n",
    "<br/>\n",
    "* daily 버전은 한 문자열을 반환 \n",
    "<br/>\n",
    "* weekly 버전은 일곱 개의 문자열이 담긴 리스트를 반환(1주일은 7일) "
   ]
  },
  {
   "cell_type": "markdown",
   "metadata": {},
   "source": [
    "__main.py__"
   ]
  },
  {
   "cell_type": "code",
   "execution_count": 23,
   "metadata": {
    "collapsed": true
   },
   "outputs": [],
   "source": [
    "import sys, os \n",
    "sys.path.append( os.pardir ) \n",
    "\n",
    "from module_lists import daily, weekly"
   ]
  },
  {
   "cell_type": "code",
   "execution_count": 24,
   "metadata": {},
   "outputs": [
    {
     "name": "stdout",
     "output_type": "stream",
     "text": [
      "Daily forecast:  like yesterday\n",
      "Weekly forecast:  ['snow', 'more snow', 'sleet', 'freezing rain', 'rain', 'fog', 'hail']\n"
     ]
    }
   ],
   "source": [
    "print(\"Daily forecast: \", daily.forecast() )\n",
    "print(\"Weekly forecast: \", weekly.forecast() )"
   ]
  },
  {
   "cell_type": "code",
   "execution_count": 25,
   "metadata": {},
   "outputs": [
    {
     "name": "stdout",
     "output_type": "stream",
     "text": [
      "1 snow\n",
      "2 more snow\n",
      "3 sleet\n",
      "4 freezing rain\n",
      "5 rain\n",
      "6 fog\n",
      "7 hail\n"
     ]
    }
   ],
   "source": [
    "for num, outlook in enumerate(weekly.forecast(), 1):\n",
    "    print(num, outlook)"
   ]
  },
  {
   "cell_type": "markdown",
   "metadata": {},
   "source": [
    "enumerate(<순회\\_가능\\_객체>, step_size   ) 함수\n",
    "> <순회\\_가능\\_객체>의 첫번째 원소의 인덱스를 반환함  \n",
    "> 각 항목의 인덱스는 step_size 만큼 증가 "
   ]
  },
  {
   "cell_type": "code",
   "execution_count": 27,
   "metadata": {},
   "outputs": [
    {
     "name": "stdout",
     "output_type": "stream",
     "text": [
      "(1, 'go')\n",
      "(2, 'went')\n",
      "(3, 'gone')\n"
     ]
    }
   ],
   "source": [
    "tuple_ex = (\"go\", \"went\", \"gone\")\n",
    "\n",
    "for x in enumerate(tuple_ex, 1):\n",
    "    print(x)"
   ]
  },
  {
   "cell_type": "markdown",
   "metadata": {},
   "source": [
    "다음은 모듈 내부의 코드임 "
   ]
  },
  {
   "cell_type": "markdown",
   "metadata": {},
   "source": [
    "__./module_lists/daily.py__"
   ]
  },
  {
   "cell_type": "code",
   "execution_count": 28,
   "metadata": {
    "collapsed": true
   },
   "outputs": [],
   "source": [
    "def forcast():\n",
    "    \"\"\"Fake daily forecast\"\"\"\n",
    "    return \"like yesterday\""
   ]
  },
  {
   "cell_type": "markdown",
   "metadata": {},
   "source": [
    "__./module_lists/weekly.py__"
   ]
  },
  {
   "cell_type": "code",
   "execution_count": 29,
   "metadata": {
    "collapsed": true
   },
   "outputs": [],
   "source": [
    "def forecast():\n",
    "    \"\"\"Fake weekly forecast\"\"\"\n",
    "    return [\"snow\", \"more snow\", \"sleet\", \"freezing rain\", \"rain\", \"fog\", \"hail\"]\n"
   ]
  },
  {
   "cell_type": "markdown",
   "metadata": {},
   "source": [
    "# ★ 패키지 디렉토리에 필요한 것"
   ]
  },
  {
   "cell_type": "markdown",
   "metadata": {},
   "source": [
    "모듈 파일을 모아둔 module_lists 디렉토리에 한 가지 더 필요한 것이 있음 \n",
    "> \\__init\\__.py 파일 "
   ]
  },
  {
   "cell_type": "markdown",
   "metadata": {},
   "source": [
    "파이썬은 __이 파일을 포함하는 디렉토리를 패키지로 간주함__  <br/>\n",
    "\n",
    "\\__init\\__.py 파일의 내용은 비워도 됨 "
   ]
  },
  {
   "cell_type": "code",
   "execution_count": null,
   "metadata": {
    "collapsed": true
   },
   "outputs": [],
   "source": []
  }
 ],
 "metadata": {
  "kernelspec": {
   "display_name": "Python 3",
   "language": "python",
   "name": "python3"
  },
  "language_info": {
   "codemirror_mode": {
    "name": "ipython",
    "version": 3
   },
   "file_extension": ".py",
   "mimetype": "text/x-python",
   "name": "python",
   "nbconvert_exporter": "python",
   "pygments_lexer": "ipython3",
   "version": "3.6.3"
  }
 },
 "nbformat": 4,
 "nbformat_minor": 2
}
