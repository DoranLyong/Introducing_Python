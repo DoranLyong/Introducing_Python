{
 "cells": [
  {
   "cell_type": "markdown",
   "metadata": {},
   "source": [
    "# 파이썬 표준 라이브러리(standard library of python)"
   ]
  },
  {
   "cell_type": "markdown",
   "metadata": {},
   "source": [
    "(p. 160)"
   ]
  },
  {
   "cell_type": "markdown",
   "metadata": {},
   "source": [
    "파이썬은 배터리 포함<sup>batteries included</sup> 철학 때문에 이미 많은 표준 라이브러리 모듈을 가지고 있음 <br/>\n",
    "> 이 모듈들은 핵심 코드가 늘어나는 것을 피하기 위해 분리되어 있음"
   ]
  },
  {
   "cell_type": "markdown",
   "metadata": {},
   "source": [
    "이미 쓸만한 많은 라이브러리가 많이 있기 때문에 코드 작성에 앞서 원하는 기능이 표준 모듈에 있는지 먼저 확인하는 것이 좋다. <br/>\n",
    "\n",
    "* [파이썬 튜토리얼](https://docs.python.org/3.5/tutorial/stdlib.html)\n",
    "* [모듈 공식 문서](https://docs.python.org/3/library/) <br/>\n",
    "\n",
    "* [더그 헬먼의 사이트](https://pymotw.com/2/contents.html)\n",
    "* [Python Module of Week](https://doughellmann.com/blog/the-python-3-standard-library-by-example/)"
   ]
  },
  {
   "cell_type": "markdown",
   "metadata": {},
   "source": [
    "# 표준 라이브러리 활용 연습"
   ]
  },
  {
   "cell_type": "markdown",
   "metadata": {},
   "source": [
    "## 1. 누락된 키(key) 처리하기: setdefault(), defaultdict() "
   ]
  },
  {
   "cell_type": "markdown",
   "metadata": {},
   "source": [
    "존재하지 않은 키<sup>key</sup>로 딕셔너리에 접근하려고 하면 예외(=에러)가 발생한다. <br/>\n",
    "> KeyError 발생 \n"
   ]
  },
  {
   "cell_type": "code",
   "execution_count": 3,
   "metadata": {},
   "outputs": [
    {
     "ename": "KeyError",
     "evalue": "1",
     "output_type": "error",
     "traceback": [
      "\u001b[1;31m---------------------------------------------------------------------------\u001b[0m",
      "\u001b[1;31mKeyError\u001b[0m                                  Traceback (most recent call last)",
      "\u001b[1;32m<ipython-input-3-d207c92aadcb>\u001b[0m in \u001b[0;36m<module>\u001b[1;34m()\u001b[0m\n\u001b[0;32m      1\u001b[0m \u001b[0mdict\u001b[0m \u001b[1;33m=\u001b[0m \u001b[1;33m{\u001b[0m\u001b[1;34m\"hi\"\u001b[0m\u001b[1;33m:\u001b[0m\u001b[1;36m2\u001b[0m\u001b[1;33m}\u001b[0m\u001b[1;33m\u001b[0m\u001b[0m\n\u001b[1;32m----> 2\u001b[1;33m \u001b[0mdict\u001b[0m\u001b[1;33m[\u001b[0m\u001b[1;36m1\u001b[0m\u001b[1;33m]\u001b[0m\u001b[1;33m\u001b[0m\u001b[0m\n\u001b[0m",
      "\u001b[1;31mKeyError\u001b[0m: 1"
     ]
    }
   ],
   "source": [
    "dict = {\"hi\":2}\n",
    "dict[1]"
   ]
  },
  {
   "cell_type": "markdown",
   "metadata": {},
   "source": [
    "기본값을 반환하는 딕셔너리의 .get() 메소드를 사용하면 이 예외를 피할 수 있음 "
   ]
  },
  {
   "cell_type": "markdown",
   "metadata": {},
   "source": [
    "__.setdefault()__"
   ]
  },
  {
   "cell_type": "code",
   "execution_count": 9,
   "metadata": {},
   "outputs": [
    {
     "name": "stdout",
     "output_type": "stream",
     "text": [
      "{'Hydrogen': 1, 'Helium': 2}\n"
     ]
    }
   ],
   "source": [
    "dic_table = {\"Hydrogen\": 1, \"Helium\":2 }\n",
    "print(dic_table)"
   ]
  },
  {
   "cell_type": "markdown",
   "metadata": {},
   "source": [
    "딕셔너리에 키가 없으면 새 값을 추가하고 사용한다"
   ]
  },
  {
   "cell_type": "code",
   "execution_count": 10,
   "metadata": {},
   "outputs": [
    {
     "name": "stdout",
     "output_type": "stream",
     "text": [
      "12\n",
      "{'Hydrogen': 1, 'Helium': 2, 'Carbon': 12}\n"
     ]
    }
   ],
   "source": [
    "carbon = dic_table.setdefault( \"Carbon\", 12)\n",
    "\n",
    "print(carbon)     \n",
    "print(dic_table)"
   ]
  },
  {
   "cell_type": "markdown",
   "metadata": {},
   "source": [
    "dic_table에 \"Carbon\" 키가 없어서 새로 추가됨 "
   ]
  },
  {
   "cell_type": "markdown",
   "metadata": {},
   "source": [
    "__반대로__ 같은 선언문인데 <span style=\"color:blue\">이미 존재하는 키</span>에 다른 기본값을 할당하려 하면, \n",
    "> 원래 있던 값이 반환되고 아무것도 바뀌지 않음 "
   ]
  },
  {
   "cell_type": "code",
   "execution_count": 13,
   "metadata": {},
   "outputs": [
    {
     "name": "stdout",
     "output_type": "stream",
     "text": [
      "12\n",
      "{'Hydrogen': 1, 'Helium': 2, 'Carbon': 12}\n"
     ]
    }
   ],
   "source": [
    "what = dic_table.setdefault( \"Carbon\", 999)\n",
    "\n",
    "print(what)\n",
    "print(dic_table)"
   ]
  },
  {
   "cell_type": "markdown",
   "metadata": {},
   "source": [
    "\n"
   ]
  },
  {
   "cell_type": "markdown",
   "metadata": {},
   "source": [
    "__defaultdict()__"
   ]
  },
  {
   "cell_type": "code",
   "execution_count": 19,
   "metadata": {},
   "outputs": [
    {
     "name": "stdout",
     "output_type": "stream",
     "text": [
      "존재하는 키로 접근:  0\n",
      "없는 키로 접근:  0\n",
      "defaultdict(<class 'int'>, {'Hydrogen': 0, 'Lead': 0})\n"
     ]
    }
   ],
   "source": [
    "from collections import defaultdict \n",
    "\n",
    "dic_table2 = {\"Hydrogen\": 1, \"Helium\":2 }\n",
    "\n",
    "dic_table2 = defaultdict(int)\n",
    "\n",
    "print(\"존재하는 키로 접근: \", dic_table2[\"Hydrogen\"]   )\n",
    "print(\"없는 키로 접근: \", dic_table2[\"Lead\"])\n",
    "\n",
    "print(dic_table2)"
   ]
  },
  {
   "cell_type": "markdown",
   "metadata": {},
   "source": [
    "defaultdict() 부터 이해 안간다  나중에 다시 정리하자 "
   ]
  },
  {
   "cell_type": "code",
   "execution_count": null,
   "metadata": {
    "collapsed": true
   },
   "outputs": [],
   "source": []
  }
 ],
 "metadata": {
  "kernelspec": {
   "display_name": "Python 3",
   "language": "python",
   "name": "python3"
  },
  "language_info": {
   "codemirror_mode": {
    "name": "ipython",
    "version": 3
   },
   "file_extension": ".py",
   "mimetype": "text/x-python",
   "name": "python",
   "nbconvert_exporter": "python",
   "pygments_lexer": "ipython3",
   "version": "3.6.3"
  }
 },
 "nbformat": 4,
 "nbformat_minor": 2
}
