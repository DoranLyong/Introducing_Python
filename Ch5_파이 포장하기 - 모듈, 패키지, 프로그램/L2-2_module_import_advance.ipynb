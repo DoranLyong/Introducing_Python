{
 "cells": [
  {
   "cell_type": "markdown",
   "metadata": {},
   "source": [
    "(p. 157)"
   ]
  },
  {
   "cell_type": "markdown",
   "metadata": {},
   "source": [
    "# 1. 다른 이름으로 모듈 임포트하기 \n",
    "임포트할 모듈 이름이 너무 길거나 마음에 안들 때는 가명으로 호출할 수 있다. \n",
    "> 앨리어스<sup>alias</sup> 기능 사용\n",
    "\n",
    "~~~ python \n",
    "\n",
    "import <모듈_이름>  as  <가명>\n",
    "\n",
    "~~~"
   ]
  },
  {
   "cell_type": "code",
   "execution_count": 3,
   "metadata": {},
   "outputs": [
    {
     "name": "stdout",
     "output_type": "stream",
     "text": [
      "Today's weather:  fog\n"
     ]
    }
   ],
   "source": [
    "import sys, os \n",
    "sys.path.append( os.pardir )\n",
    "\n",
    "from module_lists import report as rp     # module_lists.report \n",
    "                                          # module_lists.rp\n",
    "\n",
    "description = rp.get_description() \n",
    "print(\"Today's weather: \", description)"
   ]
  },
  {
   "cell_type": "markdown",
   "metadata": {},
   "source": [
    "\n"
   ]
  },
  {
   "cell_type": "markdown",
   "metadata": {},
   "source": [
    "# 2. 필요한 묘듈의 내용만 임포트"
   ]
  },
  {
   "cell_type": "markdown",
   "metadata": {},
   "source": [
    "임포트 하려는 모듈 내부에 내용물이 너무 많다. 하지만 난 그 중에 하나만 쓰고 싶다.\n",
    "> 다 불러오는 것은 엄청난 낭비다 "
   ]
  },
  {
   "cell_type": "markdown",
   "metadata": {},
   "source": [
    "###  모듈 내부에 필요한 내용만 가져오기 \n"
   ]
  },
  {
   "cell_type": "code",
   "execution_count": 7,
   "metadata": {},
   "outputs": [
    {
     "name": "stdout",
     "output_type": "stream",
     "text": [
      "Today's weather:  snow\n"
     ]
    }
   ],
   "source": [
    "import sys, os \n",
    "sys.path.append( os.pardir )\n",
    "\n",
    "from module_lists.report import get_description   # module_lists.report.get_description() \n",
    "                                                  # <dir>.<file>.<function>\n",
    "\n",
    "description = get_description() \n",
    "print(\"Today's weather: \", description )"
   ]
  },
  {
   "cell_type": "markdown",
   "metadata": {},
   "source": [
    "앨리어스를 사용할 수도 있다 "
   ]
  },
  {
   "cell_type": "code",
   "execution_count": 5,
   "metadata": {},
   "outputs": [
    {
     "name": "stdout",
     "output_type": "stream",
     "text": [
      "Today's weather:  who knows\n"
     ]
    }
   ],
   "source": [
    "from module_lists.report import get_description as do_it \n",
    "\n",
    "description = do_it() \n",
    "print(\"Today's weather: \", description)"
   ]
  },
  {
   "cell_type": "markdown",
   "metadata": {},
   "source": [
    "\n",
    "\n"
   ]
  },
  {
   "cell_type": "markdown",
   "metadata": {},
   "source": [
    "# 3. 모듈 검색 경로 "
   ]
  },
  {
   "cell_type": "markdown",
   "metadata": {},
   "source": [
    "파이썬은 임포트할 파일을 어디서 찾을까?  (경로 리스트가 필요함) \n",
    "> 디렉토리 이름의 리스트와 표준 sys 모듈에 저장 되어 있는 ZIP 아카이브<sup>archive</sup> 파일을 변수 path로 사용함 "
   ]
  },
  {
   "cell_type": "code",
   "execution_count": 8,
   "metadata": {},
   "outputs": [
    {
     "name": "stdout",
     "output_type": "stream",
     "text": [
      "\n",
      "C:\\ProgramData\\Anaconda3\\python36.zip\n",
      "C:\\ProgramData\\Anaconda3\\DLLs\n",
      "C:\\ProgramData\\Anaconda3\\lib\n",
      "C:\\ProgramData\\Anaconda3\n",
      "C:\\ProgramData\\Anaconda3\\lib\\site-packages\n",
      "C:\\ProgramData\\Anaconda3\\lib\\site-packages\\Babel-2.5.0-py3.6.egg\n",
      "C:\\ProgramData\\Anaconda3\\lib\\site-packages\\win32\n",
      "C:\\ProgramData\\Anaconda3\\lib\\site-packages\\win32\\lib\n",
      "C:\\ProgramData\\Anaconda3\\lib\\site-packages\\Pythonwin\n",
      "C:\\ProgramData\\Anaconda3\\lib\\site-packages\\IPython\\extensions\n",
      "C:\\Users\\camin\\.ipython\n",
      "..\n",
      "..\n",
      "..\n",
      "..\n",
      "..\n",
      "..\n"
     ]
    }
   ],
   "source": [
    "import sys \n",
    "for import_file_place in sys.path:\n",
    "    print(import_file_place)"
   ]
  },
  {
   "cell_type": "markdown",
   "metadata": {},
   "source": [
    "※ 같은 부모디렉토리 내부의 모듈들을 임포트 하려면 sys.path에 경로를 추가하면 됨 \n",
    "~~~ python \n",
    "sys.path.append( os.pardir) \n",
    "~~~"
   ]
  },
  {
   "cell_type": "markdown",
   "metadata": {},
   "source": [
    "__[설명]__ <br/>\n",
    "* 출력의 첫 번째 라인의 공백은 현재 디렉토리를 뜻하는 빈 문자열(\"\") \n",
    "> 빈 문자열이 sys.path의 <span style=\"color:red\">첫 번째 요소</span>에 있다면, 파이썬은 임포트할 파일을 현재 디렉토리에 먼저 찾음 <br/>\n",
    "\n",
    "이게 저절로 잘 안될 때는 현재 디렉토리의 경로를 명시화 해서 sys.path에 추가해 주어야함 "
   ]
  },
  {
   "cell_type": "markdown",
   "metadata": {},
   "source": [
    "__Example__  <br/>\n",
    "사용자가 random 이라는 이름으로 모듈을 만들었고 sys.path의 첫번째 요소는 빈 문자열(\"\")이다 \n",
    ">이때 메인 코드에 <span style=\"color:green\">import</span> random을 한다면? "
   ]
  },
  {
   "cell_type": "markdown",
   "metadata": {},
   "source": [
    "* 파이썬 표준 라이브러리에도 random 이라는 모듈이 있음 \n",
    "* sys.path의 첫 번째 요소가 빈 문자열(\"\")이기 때문에 current working directory부터 모듈의 위치를 탐색함 \n"
   ]
  },
  {
   "cell_type": "markdown",
   "metadata": {},
   "source": [
    "∴ 표준 라이브러리의 random이 아닌 사용자가 정의한 random 모듈을 임포트할 것임 "
   ]
  },
  {
   "cell_type": "markdown",
   "metadata": {},
   "source": [
    "### 같은 이름의 모듈들이 있다면 탐색 경로에서 가장 가까운 모듈이 임포트됨 "
   ]
  },
  {
   "cell_type": "code",
   "execution_count": null,
   "metadata": {
    "collapsed": true
   },
   "outputs": [],
   "source": []
  }
 ],
 "metadata": {
  "kernelspec": {
   "display_name": "Python 3",
   "language": "python",
   "name": "python3"
  },
  "language_info": {
   "codemirror_mode": {
    "name": "ipython",
    "version": 3
   },
   "file_extension": ".py",
   "mimetype": "text/x-python",
   "name": "python",
   "nbconvert_exporter": "python",
   "pygments_lexer": "ipython3",
   "version": "3.6.5"
  }
 },
 "nbformat": 4,
 "nbformat_minor": 2
}
